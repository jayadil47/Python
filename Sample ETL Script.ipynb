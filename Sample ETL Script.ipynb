{
 "cells": [
  {
   "cell_type": "markdown",
   "metadata": {
    "id": "5EyYb-LWo7mC"
   },
   "source": [
    "# ETL Script"
   ]
  },
  {
   "cell_type": "code",
   "execution_count": 1,
   "metadata": {
    "colab": {
     "base_uri": "https://localhost:8080/"
    },
    "id": "dx4gfYuyHGTR",
    "outputId": "80b1a449-c7de-452c-bfd1-e6c035d77cdc"
   },
   "outputs": [],
   "source": [
    "--ScriptInfo\n",
    "import pandas as pd\n",
    "import numpy as np\n",
    "import json\n",
    "import sqlalchemy\n",
    "from sqlalchemy import create_engine\n",
    "import pymysql \n",
    "import mysql.connector\n",
    "import psycopg2\n",
    "import pandas.io.sql as sqlio\n",
    "from datetime import datetime\n",
    "import matplotlib.pyplot as plt"
   ]
  },
  {
   "cell_type": "markdown",
   "metadata": {},
   "source": [
    "## Extracting Data"
   ]
  },
  {
   "cell_type": "code",
   "execution_count": null,
   "metadata": {
    "id": "lkSMQ8ceIJCG"
   },
   "outputs": [],
   "source": [
    "##Creating Connection to (a) Database\n",
    "jsdb = mysql.connector.connect (\n",
    "    host= 'enteryourhostname.com',\n",
    "    user= 'myusername',\n",
    "    password= 'mypassword',\n",
    "    port= 3306, \n",
    "    database= 'sale'\n",
    ")"
   ]
  },
  {
   "cell_type": "code",
   "execution_count": null,
   "metadata": {},
   "outputs": [],
   "source": [
    "#Querting Engine \n",
    "engine = create_engine('mysql+mysqlconnector://username:hostname.com:port/schema', echo=False)\n",
    "cnx = engine.raw_connection()"
   ]
  },
  {
   "cell_type": "code",
   "execution_count": null,
   "metadata": {
    "id": "rI3WQnhUkyEh"
   },
   "outputs": [],
   "source": [
    "# Reading Json file\n",
    "with open(r\"C:\\Users\\jahan\\Downloads\\somejavascriptdata.json\", encoding=\"utf8\") as read_file:\n",
    "    df1 = json.load(read_file)"
   ]
  },
  {
   "cell_type": "markdown",
   "metadata": {},
   "source": [
    "## Transforming Data"
   ]
  },
  {
   "cell_type": "code",
   "execution_count": null,
   "metadata": {
    "id": "MuVgsbgjHy0r"
   },
   "outputs": [],
   "source": [
    "def preprocessing_inputs(df1):\n",
    "    \n",
    "    # Normalizing JSON\n",
    "    df1 = pd.json_normalize(df1, record_path=['video_edges'])\n",
    "\n",
    "    # Creatinga a copy of DF\n",
    "    df1 = df1.copy()\n",
    "   \n",
    "    # Changing Column Names\n",
    "    df1.rename(\n",
    "        columns={\n",
    "            'owner.id': 'channel_id', \n",
    "            'owner.username': 'channel_name',\n",
    "            'id': 'video_id',\n",
    "            'shortcode': 'video_shortcode',\n",
    "            'taken_at_timestamp': 'video_created_timestamp', \n",
    "            'video_duration': 'video_length',\n",
    "            'dimensions.height': 'video_height',\n",
    "            'dimensions.width': 'video_width',\n",
    "            'title': 'video_title',\n",
    "            'edge_media_to_comment.count': 'video_comments',\n",
    "            'edge_media_preview_like.count': 'video_likes',\n",
    "            'video_view_count': 'video_views',\n",
    "            'display_url':'video_url'\n",
    "            }, inplace=True)  \n",
    "    \n",
    "    # Changing Type to STR\n",
    "    df1['video_id'] = df1['video_id'].astype('str')  # which will by default set the length to the max len it encounters\n",
    "\n",
    "    # Modifying video URL\n",
    "    df1['video_url'] = 'https://www.instagram.com/p/'+df1['video_shortcode']+'/'\n",
    "  \n",
    "    # Converting Date to Datetime Format\n",
    "    df1['video_created_timestamp']=pd.to_datetime(df1['video_created_timestamp'].astype(int), unit='s')\n",
    "    df1['video_created_timestamp']= (df1['video_created_timestamp']).dt.strftime('%Y/%m/%d')\n",
    "\n",
    "    # Creating Column/Metric 'Comments_per_view'\n",
    "    df1['comments_per_view'] = (df1['video_comments']/df1['video_views'])*100\n",
    "    df1.comments_per_view.round(2)\n",
    "\n",
    "    # Creating Column/Metric 'likes_per_view'\n",
    "    df1['likes_per_view'] = (df1['video_likes']/df1['video_views'])*100\n",
    "    df1.likes_per_view.round(2)\n",
    "\n",
    "    # Taking off/Changing INF(infinite) values to 0\n",
    "    df1.replace(np.inf, 0, inplace=True)\n",
    "    df1.replace(np.inf, 0, inplace=True)\n",
    "    \n",
    "    # Resetting Index()\n",
    "    df1.reset_index()\n",
    "    \n",
    "    return df1"
   ]
  },
  {
   "cell_type": "code",
   "execution_count": null,
   "metadata": {
    "id": "gq4yCKTgRBi1"
   },
   "outputs": [],
   "source": [
    "df_cleaned = preprocessing_inputs(df1)"
   ]
  },
  {
   "cell_type": "markdown",
   "metadata": {},
   "source": [
    "## Loading Data"
   ]
  },
  {
   "cell_type": "code",
   "execution_count": null,
   "metadata": {
    "id": "aX1k18OFzu5i"
   },
   "outputs": [],
   "source": [
    "# vid_performance_metrics (For all the performance based metrics)\n",
    "df_vid_performance_metrics = df_cleaned[[\"video_id\",\n",
    "                                         'channel_id', \n",
    "                                         \"video_comments\",\n",
    "                                         'video_likes', \n",
    "                                         'video_views', \n",
    "                                         'comments_per_view', \n",
    "                                         'likes_per_view']]"
   ]
  },
  {
   "cell_type": "code",
   "execution_count": null,
   "metadata": {
    "id": "BcjVg0vcs_Gf"
   },
   "outputs": [],
   "source": [
    "# vid_description_details (For all the ordinal / categorical data)\n",
    "df_vid_data_description = df_cleaned[['channel_id', \n",
    "                                      'channel_name' ,\n",
    "                                      \"video_id\", \n",
    "                                      \"video_shortcode\", \n",
    "                                      \"video_created_timestamp\",\n",
    "                                      'video_url', \n",
    "                                      'video_title', \n",
    "                                      'video_length', \n",
    "                                      'video_height', \n",
    "                                      'video_width', \n",
    "                                      'video_comments' ]]"
   ]
  },
  {
   "cell_type": "code",
   "execution_count": null,
   "metadata": {
    "id": "sA6xGRiGpfZO"
   },
   "outputs": [],
   "source": [
    "# Date Warehouse Upload Query\n",
    "df_vid_performance_metrics.to_sql(name='stg_tbl_video_metrics', con=engine, if_exists = 'replace',index=False)\n",
    "df_vid_description_metrics.to_sql(name='stg_tbl_descriptive_metrics', con=engine, if_exists = 'replace',index=False)"
   ]
  },
  {
   "cell_type": "code",
   "execution_count": null,
   "metadata": {
    "id": "eFmQ902BYC9a"
   },
   "outputs": [],
   "source": [
    "# CSV Output\n",
    "df_vid_performance_metrics.to_csv('/root/SomeContiniousMetrics.csv', index=False)\n",
    "df_vid_data_description.to_csv('/root/SomeDescriptiveMetrics.csv', index=False)"
   ]
  },
  {
   "cell_type": "markdown",
   "metadata": {
    "id": "inKcMpVaCKON"
   },
   "source": [
    "def clean_data(data):\n",
    "    table = pd.DataFrame()\n",
    "    for i in range(len(data) - 1):\n",
    "        df5 = pd.json_normalize(data[i + 1])\n",
    "        df5 = df[FIELDS]\n",
    "        table = table.append(df5)\n",
    "    return table "
   ]
  }
 ],
 "metadata": {
  "colab": {
   "collapsed_sections": [],
   "name": "JellySmack_Assessment.ipynb",
   "provenance": []
  },
  "kernelspec": {
   "display_name": "Python 3 (ipykernel)",
   "language": "python",
   "name": "python3"
  },
  "language_info": {
   "codemirror_mode": {
    "name": "ipython",
    "version": 3
   },
   "file_extension": ".py",
   "mimetype": "text/x-python",
   "name": "python",
   "nbconvert_exporter": "python",
   "pygments_lexer": "ipython3",
   "version": "3.9.7"
  }
 },
 "nbformat": 4,
 "nbformat_minor": 1
}
