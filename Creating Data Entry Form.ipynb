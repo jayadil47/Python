{
 "cells": [
  {
   "cell_type": "code",
   "execution_count": 1,
   "id": "87c05336",
   "metadata": {},
   "outputs": [
    {
     "name": "stdout",
     "output_type": "stream",
     "text": [
      "Requirement already satisfied: pysimplegui in c:\\users\\jahan\\anaconda3\\lib\\site-packages (4.44.0)\n",
      "Note: you may need to restart the kernel to use updated packages.\n"
     ]
    }
   ],
   "source": [
    "pip install pysimplegui"
   ]
  },
  {
   "cell_type": "code",
   "execution_count": 2,
   "id": "2432e0d1",
   "metadata": {},
   "outputs": [],
   "source": [
    "import PySimpleGUI as sg"
   ]
  },
  {
   "cell_type": "code",
   "execution_count": 4,
   "id": "b3879690",
   "metadata": {},
   "outputs": [
    {
     "name": "stdout",
     "output_type": "stream",
     "text": [
      "Submit Jahanzaib Adil 1 Mahattan, New York, NY 347-900-1236\n"
     ]
    }
   ],
   "source": [
    "sg.theme('SystemDefault')      # Add some color to the window\n",
    "\n",
    "# Very basic window.  Return values using auto numbered keys\n",
    "\n",
    "layout = [\n",
    "    [sg.Text('Please enter your Name, Address, Phone')],\n",
    "    [sg.Text('Name', size=(15, 1)), sg.InputText()],\n",
    "    [sg.Text('Address', size=(15, 1)), sg.InputText()],\n",
    "    [sg.Text('Phone', size=(15, 1)), sg.InputText()],\n",
    "    [sg.Submit(), sg.Cancel()]\n",
    "]\n",
    "\n",
    "window = sg.Window('Data Entry Form', layout)\n",
    "event, values = window.read()\n",
    "window.close()\n",
    "print(event, values[0], values[1], values[2])    # the input data looks like a simple list when auto numbered"
   ]
  },
  {
   "cell_type": "code",
   "execution_count": null,
   "id": "8aabac80",
   "metadata": {},
   "outputs": [],
   "source": []
  }
 ],
 "metadata": {
  "kernelspec": {
   "display_name": "Python 3",
   "language": "python",
   "name": "python3"
  },
  "language_info": {
   "codemirror_mode": {
    "name": "ipython",
    "version": 3
   },
   "file_extension": ".py",
   "mimetype": "text/x-python",
   "name": "python",
   "nbconvert_exporter": "python",
   "pygments_lexer": "ipython3",
   "version": "3.8.8"
  }
 },
 "nbformat": 4,
 "nbformat_minor": 5
}
