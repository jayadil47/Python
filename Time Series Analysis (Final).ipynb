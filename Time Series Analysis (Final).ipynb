{
 "cells": [
  {
   "cell_type": "markdown",
   "metadata": {},
   "source": [
    "# Time Series Analysis\n",
    "Time Series is a series of observations measured over time.These observations are applicable to different fields such as\n",
    "- Cardiology (Heart Rate Monitor)\n",
    "- Finance (Stock Market Data)\n",
    "- Neurology (EEG Data)\n",
    "- Meteriology ( Temperature Measurements)"
   ]
  },
  {
   "cell_type": "markdown",
   "metadata": {},
   "source": [
    "## Time Series Properties\n",
    "1. Univariate Data\n",
    "\n",
    "2. Values are indexed by time\n",
    "\n",
    "3. Observations captured in constant time intervals"
   ]
  },
  {
   "cell_type": "markdown",
   "metadata": {},
   "source": [
    "## Uniqueness of Time Series\n",
    "The same data is captured over a series of time intervals and the models are also a bit unique to the data.\n",
    "\n",
    "Ideally, when you collect observations, you capture multiple data attributes, so we apply multivariate models in those situations.\n",
    "\n",
    "In this topic, since you collect a single attribute over time, it is unique."
   ]
  },
  {
   "cell_type": "markdown",
   "metadata": {},
   "source": [
    "## Date as an Index\n",
    "- Indexing is the process of sequencing a given set of data points for easy searching and retrieval.\n",
    "- Ideally indexing is just numbering or sequencing the data based on a numeric.\n",
    "- For time series data, the date-time attribute is the index.\n",
    "\n",
    "Here the data points are studied at different time steps."
   ]
  },
  {
   "cell_type": "markdown",
   "metadata": {},
   "source": [
    "## Why Use Date as Index?\n",
    "- Date as Index has several advantages. It gives you flexibility to aggregate and disintegrate your data based on any time step.\n",
    "- You will learn them through Python so that you can practically see how it works."
   ]
  },
  {
   "cell_type": "markdown",
   "metadata": {},
   "source": [
    "## Date as Index in Python\n",
    "In Python, when you load a time series data, you can specify the index to be the date column."
   ]
  },
  {
   "cell_type": "code",
   "execution_count": 77,
   "metadata": {},
   "outputs": [],
   "source": [
    "import pandas as pd\n",
    "import numpy as np"
   ]
  },
  {
   "cell_type": "code",
   "execution_count": 3,
   "metadata": {},
   "outputs": [],
   "source": [
    "date = [pd.Timestamp(\"2017-01-01\"),\n",
    "        pd.Timestamp(\"2017-01-02\"),\n",
    "        pd.Timestamp(\"2018-02-03\"),\n",
    "        pd.Timestamp(\"2018-02-04\"),\n",
    "        pd.Timestamp(\"2019-03-01\")]\n",
    "timeSeries = pd.Series(np.random.randn(len(date)), index=date)"
   ]
  },
  {
   "cell_type": "markdown",
   "metadata": {},
   "source": [
    "#### In the first step, we create date values. In the second step, we create random time series with date as index."
   ]
  },
  {
   "cell_type": "code",
   "execution_count": 4,
   "metadata": {},
   "outputs": [
    {
     "data": {
      "text/plain": [
       "DatetimeIndex(['2017-01-01', '2017-01-02', '2018-02-03', '2018-01-01'], dtype='datetime64[ns]', freq=None)"
      ]
     },
     "execution_count": 4,
     "metadata": {},
     "output_type": "execute_result"
    }
   ],
   "source": [
    "timeSeries.index \n",
    "pd.DatetimeIndex(['2017-01-01', '2017-01-02', '2018-02-03','2018-01-01'], dtype='datetime64[ns]', freq=None)"
   ]
  },
  {
   "cell_type": "markdown",
   "metadata": {},
   "source": [
    "## Retrieving the Values\n",
    "If you want to pull out the value at a given timestamp, you can easily reference the date to pull the value, since it is a date time index."
   ]
  },
  {
   "cell_type": "code",
   "execution_count": 5,
   "metadata": {},
   "outputs": [
    {
     "data": {
      "text/plain": [
       "2017-01-01   -0.888906\n",
       "2017-01-02    0.802996\n",
       "2018-02-03    0.808572\n",
       "2018-02-04   -0.765149\n",
       "2019-03-01    0.826235\n",
       "dtype: float64"
      ]
     },
     "execution_count": 5,
     "metadata": {},
     "output_type": "execute_result"
    }
   ],
   "source": [
    "timeSeries"
   ]
  },
  {
   "cell_type": "markdown",
   "metadata": {},
   "source": [
    "## Retrieving a Range of Dates\n",
    "- Once your time series is indexed by date, you can retrieve a single date as well as a date range.\n",
    "- You pass the start and the end date to retrieve all values in the given range."
   ]
  },
  {
   "cell_type": "code",
   "execution_count": 8,
   "metadata": {},
   "outputs": [
    {
     "data": {
      "text/plain": [
       "2018-02-03    0.808572\n",
       "2018-02-04   -0.765149\n",
       "2019-03-01    0.826235\n",
       "dtype: float64"
      ]
     },
     "execution_count": 8,
     "metadata": {},
     "output_type": "execute_result"
    }
   ],
   "source": [
    "timeSeries['2018':'2019']"
   ]
  },
  {
   "cell_type": "markdown",
   "metadata": {},
   "source": [
    "#### In the above example, all the values specified in the range are retrieved."
   ]
  },
  {
   "cell_type": "markdown",
   "metadata": {},
   "source": [
    "## Date Range\n",
    "In time series, sometimes the date values are not provided explicitly. So how will you generate the date time values and index in that scenario?\n",
    "\n",
    "date_range() Function in Python helps in creating a set of sequential date time values in a given range.\n",
    "\n",
    "There are many ways to create a sequence of dates based on the parameters passed to the function.\n",
    "\n",
    "The date_range() function in Python has multiple features and parameters. You have the flexibility to generate date values in many ways. You will learn some of them in the following cards."
   ]
  },
  {
   "cell_type": "markdown",
   "metadata": {},
   "source": [
    "## Date Range Generate Dates\n",
    "- Say you know the start date and the end date, and you would want to generate a set of dates in that range.\n",
    "- You can do that using Python in the following way"
   ]
  },
  {
   "cell_type": "code",
   "execution_count": 11,
   "metadata": {},
   "outputs": [
    {
     "data": {
      "text/plain": [
       "DatetimeIndex(['2017-01-02', '2017-01-03', '2017-01-04', '2017-01-05',\n",
       "               '2017-01-06', '2017-01-09', '2017-01-10', '2017-01-11',\n",
       "               '2017-01-12', '2017-01-13', '2017-01-16', '2017-01-17',\n",
       "               '2017-01-18', '2017-01-19', '2017-01-20', '2017-01-23',\n",
       "               '2017-01-24', '2017-01-25', '2017-01-26', '2017-01-27',\n",
       "               '2017-01-30'],\n",
       "              dtype='datetime64[ns]', freq='B')"
      ]
     },
     "execution_count": 11,
     "metadata": {},
     "output_type": "execute_result"
    }
   ],
   "source": [
    "pd.date_range(start='2017-01-01',end='2017-01-30',freq='B')"
   ]
  },
  {
   "cell_type": "markdown",
   "metadata": {},
   "source": [
    "## Generating Dates in Time Intervals\n",
    "- In the previous example, you saw how to generate dates in a range for business days.\n",
    "- You can go a bit granular and generate based on time steps (Hours, Minutes and Seconds).\n",
    "\n",
    "Say you want to generate dates starting from Jan 1, 2017, 00:00:00 hrs every hour/minute or second you will do that in the following way In the following examples, the parameter freq= controls how the different date values are generated."
   ]
  },
  {
   "cell_type": "markdown",
   "metadata": {},
   "source": [
    "#### When freq = 'H':"
   ]
  },
  {
   "cell_type": "code",
   "execution_count": 12,
   "metadata": {},
   "outputs": [
    {
     "data": {
      "text/plain": [
       "DatetimeIndex(['2017-01-01 00:00:00', '2017-01-01 01:00:00',\n",
       "               '2017-01-01 02:00:00'],\n",
       "              dtype='datetime64[ns]', freq='H')"
      ]
     },
     "execution_count": 12,
     "metadata": {},
     "output_type": "execute_result"
    }
   ],
   "source": [
    "pd.date_range(start=\"2017-01-01\", periods=3, freq='H')"
   ]
  },
  {
   "cell_type": "markdown",
   "metadata": {},
   "source": [
    "#### When freq = 'T':"
   ]
  },
  {
   "cell_type": "code",
   "execution_count": 14,
   "metadata": {},
   "outputs": [
    {
     "data": {
      "text/plain": [
       "DatetimeIndex(['2017-01-01 00:00:00', '2017-01-01 00:01:00',\n",
       "               '2017-01-01 00:02:00'],\n",
       "              dtype='datetime64[ns]', freq='T')"
      ]
     },
     "execution_count": 14,
     "metadata": {},
     "output_type": "execute_result"
    }
   ],
   "source": [
    "pd.date_range(start=\"2017-01-01\", periods=3, freq='T')"
   ]
  },
  {
   "cell_type": "markdown",
   "metadata": {},
   "source": [
    "#### When freq = 'S':"
   ]
  },
  {
   "cell_type": "code",
   "execution_count": 16,
   "metadata": {},
   "outputs": [
    {
     "data": {
      "text/plain": [
       "DatetimeIndex(['2017-01-01 00:00:00', '2017-01-01 00:00:01',\n",
       "               '2017-01-01 00:00:02', '2017-01-01 00:00:03',\n",
       "               '2017-01-01 00:00:04'],\n",
       "              dtype='datetime64[ns]', freq='S')"
      ]
     },
     "execution_count": 16,
     "metadata": {},
     "output_type": "execute_result"
    }
   ],
   "source": [
    "pd.date_range(start=\"2017-01-01\", periods=5, freq='S')"
   ]
  },
  {
   "cell_type": "markdown",
   "metadata": {},
   "source": [
    "## Varying Frequencies\n",
    "So far, you have seen how to generate date time indices at specific frequencies\n",
    "\n",
    "Let's say you want to generate date-time values that are 1 day, 1 hour, 1 minute and 10 seconds apart.\n",
    "\n",
    "How will you do that using Python?\n",
    "\n",
    "See the code below."
   ]
  },
  {
   "cell_type": "code",
   "execution_count": 2,
   "metadata": {},
   "outputs": [
    {
     "data": {
      "text/plain": [
       "DatetimeIndex(['2019-01-01 00:00:00', '2019-01-02 01:01:10',\n",
       "               '2019-01-03 02:02:20', '2019-01-04 03:03:30',\n",
       "               '2019-01-05 04:04:40'],\n",
       "              dtype='datetime64[ns]', freq='90070S')"
      ]
     },
     "execution_count": 2,
     "metadata": {},
     "output_type": "execute_result"
    }
   ],
   "source": [
    "import pandas as pd \n",
    "pd.date_range(start=\"2019-01-01\", periods=5, freq='1D1h1min10s')"
   ]
  },
  {
   "cell_type": "markdown",
   "metadata": {},
   "source": [
    "#### You can give what kind of frequency you need by customizing the freq = parameter."
   ]
  },
  {
   "cell_type": "markdown",
   "metadata": {},
   "source": [
    "## Generating Custom Date Ranges\n",
    "Instead of specifying a date, you can also specify a day from when you want to generate the date time.\n",
    "\n",
    "For example, you want to generate date time stamp every Friday for five instances from a given start date."
   ]
  },
  {
   "cell_type": "code",
   "execution_count": 3,
   "metadata": {},
   "outputs": [
    {
     "data": {
      "text/plain": [
       "DatetimeIndex(['2017-01-06', '2017-01-13', '2017-01-20', '2017-01-27',\n",
       "               '2017-02-03'],\n",
       "              dtype='datetime64[ns]', freq='W-FRI')"
      ]
     },
     "execution_count": 3,
     "metadata": {},
     "output_type": "execute_result"
    }
   ],
   "source": [
    "pd.date_range(start=\"2017-01-01\", periods=5, freq='W-FRI')"
   ]
  },
  {
   "cell_type": "markdown",
   "metadata": {},
   "source": [
    "#### NOTE: freq= 'W-FRI' here W stands for Week."
   ]
  },
  {
   "cell_type": "markdown",
   "metadata": {},
   "source": [
    "## Combining Indices\n",
    "You have generated separate indices with different dates and would want to combine them . \n",
    "\n",
    "How would you do that ?\n",
    "\n",
    "The code below explains the steps."
   ]
  },
  {
   "cell_type": "code",
   "execution_count": 4,
   "metadata": {},
   "outputs": [
    {
     "data": {
      "text/plain": [
       "DatetimeIndex(['2017-01-02', '2017-02-28', '2018-01-01', '2018-02-28',\n",
       "               '2019-01-01', '2019-02-28', '2020-01-01', '2020-02-29',\n",
       "               '2021-01-01', '2021-02-28', '2022-01-03', '2022-02-28',\n",
       "               '2023-01-02', '2023-02-28', '2024-01-01', '2024-02-29',\n",
       "               '2025-01-01', '2025-02-28', '2026-01-01', '2026-02-28'],\n",
       "              dtype='datetime64[ns]', freq=None)"
      ]
     },
     "execution_count": 4,
     "metadata": {},
     "output_type": "execute_result"
    }
   ],
   "source": [
    "a = pd.date_range(start=\"2017-01-01\", periods=10, freq='BAS-JAN')\n",
    "b = pd.date_range(start=\"2017-01-01\", periods=10, freq='A-FEB')\n",
    "a.union(b)"
   ]
  },
  {
   "cell_type": "markdown",
   "metadata": {},
   "source": [
    "#### Clarification of above code: \n",
    "- First index generated 10 first business days in January starting 2017\n",
    "- Second index genetated 10 last buisiness days in February starting 2017.\n",
    "- The union() function helped in combining one index to another."
   ]
  },
  {
   "cell_type": "markdown",
   "metadata": {},
   "source": [
    "## Resampling Time Series\n",
    "\n",
    "You have your time series data captured in a specific time interval (frequency). \n",
    "\n",
    "This could be Hourly, Daily, and Weekly but you are interested in aggregating this date at a different frequency, i.e., Monthly, Yearly, etc. How do you think you can achieve that?\n",
    "\n",
    "- Resampling will help you.\n",
    "\n",
    "- Resampling is the process of converting your time series data from a given frequency to the desired frequency.\n",
    "\n",
    "- Upsampling is converting the data from a low frequency to a high frequency.\n",
    "\n",
    "- Downsampling is converting the data from a high frequency to a low frequency."
   ]
  },
  {
   "cell_type": "markdown",
   "metadata": {},
   "source": [
    "## Why Resample?\n",
    "The collected Time Series Data might not always be at uniform intervals. To study them, they have to be confined to regular time intervals.\n",
    "\n",
    "Resampling helps in these situations."
   ]
  },
  {
   "cell_type": "markdown",
   "metadata": {},
   "source": [
    "## Downsample Scenario\n",
    "\n",
    "Let us take an example where customers are visiting a supermarket.\n",
    "\n",
    "You are interested in studying the customer incidence pattern at different time steps.\n",
    "\n",
    "You can simulate that scenarios in the following way using Python."
   ]
  },
  {
   "cell_type": "code",
   "execution_count": 11,
   "metadata": {},
   "outputs": [],
   "source": [
    "import numpy as np\n",
    "import pandas as pd\n",
    "import random\n",
    "customerArrival = pd.date_range('18/09/2017 8:00', periods=500, freq='T')"
   ]
  },
  {
   "cell_type": "code",
   "execution_count": 12,
   "metadata": {},
   "outputs": [
    {
     "data": {
      "text/plain": [
       "2017-09-18 08:00:00    14\n",
       "2017-09-18 08:01:00    58\n",
       "2017-09-18 08:02:00    17\n",
       "2017-09-18 08:03:00    47\n",
       "2017-09-18 08:04:00    63\n",
       "2017-09-18 08:05:00    71\n",
       "2017-09-18 08:06:00    38\n",
       "2017-09-18 08:07:00    90\n",
       "2017-09-18 08:08:00    33\n",
       "2017-09-18 08:09:00    46\n",
       "Freq: T, dtype: int32"
      ]
     },
     "execution_count": 12,
     "metadata": {},
     "output_type": "execute_result"
    }
   ],
   "source": [
    "custArrivalTs = pd.Series(np.random.randint(0, 100, len(customerArrival)), index=customerArrival)\n",
    "custArrivalTs.head(10)"
   ]
  },
  {
   "cell_type": "markdown",
   "metadata": {},
   "source": [
    "## Downsample Data\n",
    "In the previous card, you saw how to create a random customer incidence scenario for every minute.\n",
    "\n",
    "You are not interested in customer incidence every minute but you would want to get the mean customer incidence every 10 mins.\n",
    "\n",
    "You will resample (downsample) your time series in the following way.\n",
    "\n"
   ]
  },
  {
   "cell_type": "code",
   "execution_count": 14,
   "metadata": {},
   "outputs": [
    {
     "name": "stderr",
     "output_type": "stream",
     "text": [
      "E:\\Anaconda3\\lib\\site-packages\\ipykernel_launcher.py:1: FutureWarning: how in .resample() is deprecated\n",
      "the new syntax is .resample(...).min()\n",
      "  \"\"\"Entry point for launching an IPython kernel.\n"
     ]
    },
    {
     "data": {
      "text/plain": [
       "2017-09-30    0\n",
       "Freq: M, dtype: int32"
      ]
     },
     "execution_count": 14,
     "metadata": {},
     "output_type": "execute_result"
    }
   ],
   "source": [
    "custArrivalTs.resample('M', how='min').head()"
   ]
  },
  {
   "cell_type": "markdown",
   "metadata": {},
   "source": [
    "## Custom Aggregation\n",
    "If you do not want the aggregation using the mean, you can specify your custom function.\n",
    "\n",
    "See the below code to understand that process."
   ]
  },
  {
   "cell_type": "code",
   "execution_count": 8,
   "metadata": {},
   "outputs": [
    {
     "name": "stderr",
     "output_type": "stream",
     "text": [
      "E:\\Anaconda3\\lib\\site-packages\\ipykernel_launcher.py:1: FutureWarning: how in .resample() is deprecated\n",
      "the new syntax is .resample(...).sum()\n",
      "  \"\"\"Entry point for launching an IPython kernel.\n"
     ]
    },
    {
     "data": {
      "text/plain": [
       "2017-09-18 08:00:00    595\n",
       "2017-09-18 08:10:00    495\n",
       "2017-09-18 08:20:00    457\n",
       "2017-09-18 08:30:00    349\n",
       "2017-09-18 08:40:00    621\n",
       "Freq: 10T, dtype: int32"
      ]
     },
     "execution_count": 8,
     "metadata": {},
     "output_type": "execute_result"
    }
   ],
   "source": [
    "custArrivalTs.resample('10min', how='sum').head()"
   ]
  },
  {
   "cell_type": "markdown",
   "metadata": {},
   "source": [
    "## Other Custom Aggregation Options\n",
    "You have seen how to pass custom aggregation functions to downsample a time series data.\n",
    "\n",
    "In this example, you will notice how to get the maximum incidence in a given time interval."
   ]
  },
  {
   "cell_type": "code",
   "execution_count": 9,
   "metadata": {},
   "outputs": [
    {
     "name": "stderr",
     "output_type": "stream",
     "text": [
      "E:\\Anaconda3\\lib\\site-packages\\ipykernel_launcher.py:1: FutureWarning: how in .resample() is deprecated\n",
      "the new syntax is .resample(...).max()\n",
      "  \"\"\"Entry point for launching an IPython kernel.\n"
     ]
    },
    {
     "data": {
      "text/plain": [
       "2017-09-18 08:00:00    99\n",
       "2017-09-18 09:00:00    99\n",
       "2017-09-18 10:00:00    99\n",
       "2017-09-18 11:00:00    97\n",
       "2017-09-18 12:00:00    98\n",
       "Freq: H, dtype: int32"
      ]
     },
     "execution_count": 9,
     "metadata": {},
     "output_type": "execute_result"
    }
   ],
   "source": [
    "custArrivalTs.resample('1h', how='max').head()"
   ]
  },
  {
   "cell_type": "markdown",
   "metadata": {},
   "source": [
    "## Using Lambda Function in Custom Aggregation\n",
    "\n",
    "When you perform down sampling and you want to write your own custom function, you can accomplish that in the following manner."
   ]
  },
  {
   "cell_type": "code",
   "execution_count": 10,
   "metadata": {},
   "outputs": [
    {
     "name": "stderr",
     "output_type": "stream",
     "text": [
      "E:\\Anaconda3\\lib\\site-packages\\ipykernel_launcher.py:2: FutureWarning: how in .resample() is deprecated\n",
      "the new syntax is .resample(...)..apply(<func>)\n",
      "  \n"
     ]
    },
    {
     "data": {
      "text/plain": [
       "2017-09-18 08:00:00    36\n",
       "2017-09-18 09:00:00    95\n",
       "2017-09-18 10:00:00     9\n",
       "2017-09-18 11:00:00    36\n",
       "2017-09-18 12:00:00    49\n",
       "Freq: H, dtype: int32"
      ]
     },
     "execution_count": 10,
     "metadata": {},
     "output_type": "execute_result"
    }
   ],
   "source": [
    "custArrivalTs.resample('1h', how=lambda m: random.choice(m)).head()"
   ]
  },
  {
   "cell_type": "markdown",
   "metadata": {},
   "source": [
    "## Open High Low Close\n",
    "Let's say you are analyzing customer incidence data. You would wish to see the opening, closing, high and low incidence values in a given interval of time."
   ]
  },
  {
   "cell_type": "code",
   "execution_count": 11,
   "metadata": {},
   "outputs": [
    {
     "name": "stderr",
     "output_type": "stream",
     "text": [
      "E:\\Anaconda3\\lib\\site-packages\\ipykernel_launcher.py:1: FutureWarning: how in .resample() is deprecated\n",
      "the new syntax is .resample(...).ohlc()\n",
      "  \"\"\"Entry point for launching an IPython kernel.\n"
     ]
    },
    {
     "data": {
      "text/html": [
       "<div>\n",
       "<style scoped>\n",
       "    .dataframe tbody tr th:only-of-type {\n",
       "        vertical-align: middle;\n",
       "    }\n",
       "\n",
       "    .dataframe tbody tr th {\n",
       "        vertical-align: top;\n",
       "    }\n",
       "\n",
       "    .dataframe thead th {\n",
       "        text-align: right;\n",
       "    }\n",
       "</style>\n",
       "<table border=\"1\" class=\"dataframe\">\n",
       "  <thead>\n",
       "    <tr style=\"text-align: right;\">\n",
       "      <th></th>\n",
       "      <th>open</th>\n",
       "      <th>high</th>\n",
       "      <th>low</th>\n",
       "      <th>close</th>\n",
       "    </tr>\n",
       "  </thead>\n",
       "  <tbody>\n",
       "    <tr>\n",
       "      <th>2017-09-18 08:00:00</th>\n",
       "      <td>64</td>\n",
       "      <td>99</td>\n",
       "      <td>0</td>\n",
       "      <td>21</td>\n",
       "    </tr>\n",
       "    <tr>\n",
       "      <th>2017-09-18 09:00:00</th>\n",
       "      <td>58</td>\n",
       "      <td>99</td>\n",
       "      <td>0</td>\n",
       "      <td>92</td>\n",
       "    </tr>\n",
       "    <tr>\n",
       "      <th>2017-09-18 10:00:00</th>\n",
       "      <td>26</td>\n",
       "      <td>99</td>\n",
       "      <td>1</td>\n",
       "      <td>14</td>\n",
       "    </tr>\n",
       "    <tr>\n",
       "      <th>2017-09-18 11:00:00</th>\n",
       "      <td>23</td>\n",
       "      <td>97</td>\n",
       "      <td>0</td>\n",
       "      <td>80</td>\n",
       "    </tr>\n",
       "    <tr>\n",
       "      <th>2017-09-18 12:00:00</th>\n",
       "      <td>0</td>\n",
       "      <td>98</td>\n",
       "      <td>0</td>\n",
       "      <td>82</td>\n",
       "    </tr>\n",
       "  </tbody>\n",
       "</table>\n",
       "</div>"
      ],
      "text/plain": [
       "                     open  high  low  close\n",
       "2017-09-18 08:00:00    64    99    0     21\n",
       "2017-09-18 09:00:00    58    99    0     92\n",
       "2017-09-18 10:00:00    26    99    1     14\n",
       "2017-09-18 11:00:00    23    97    0     80\n",
       "2017-09-18 12:00:00     0    98    0     82"
      ]
     },
     "execution_count": 11,
     "metadata": {},
     "output_type": "execute_result"
    }
   ],
   "source": [
    "custArrivalTs.resample('1h', how='ohlc').head()"
   ]
  },
  {
   "cell_type": "markdown",
   "metadata": {},
   "source": [
    "## Upsampling\n",
    "In upsampling, the frequency of the data points is more than that of the original data captured.\n",
    "\n",
    "For example, you are creating ten time stamps with random values every one hour on a given date."
   ]
  },
  {
   "cell_type": "code",
   "execution_count": 5,
   "metadata": {},
   "outputs": [
    {
     "data": {
      "text/plain": [
       "2017-09-18 08:00:00     3\n",
       "2017-09-18 09:00:00    85\n",
       "2017-09-18 10:00:00    74\n",
       "2017-09-18 11:00:00    28\n",
       "2017-09-18 12:00:00    56\n",
       "2017-09-18 13:00:00    52\n",
       "2017-09-18 14:00:00    42\n",
       "2017-09-18 15:00:00    35\n",
       "2017-09-18 16:00:00    32\n",
       "2017-09-18 17:00:00     0\n",
       "Freq: H, dtype: int32"
      ]
     },
     "execution_count": 5,
     "metadata": {},
     "output_type": "execute_result"
    }
   ],
   "source": [
    "sampleRng = pd.date_range('9/18/2017 8:00', periods=10, freq='H')\n",
    "sampleTs = pd.Series(np.random.randint(0, 100, len(sampleRng)), index=sampleRng)\n",
    "sampleTs"
   ]
  },
  {
   "cell_type": "markdown",
   "metadata": {},
   "source": [
    "## Upsampling Example\n",
    "In the previous card, you have seen how to create a sample time series every 1 hour.\n",
    "\n",
    "If you want to study your data every 15 mins, you have to perform upsampling.\n",
    "\n",
    "How to perform upsampling?\n",
    "\n",
    "Observe the following usage."
   ]
  },
  {
   "cell_type": "code",
   "execution_count": 6,
   "metadata": {},
   "outputs": [
    {
     "name": "stderr",
     "output_type": "stream",
     "text": [
      "E:\\Anaconda3\\lib\\site-packages\\ipykernel_launcher.py:1: FutureWarning: how in .resample() is deprecated\n",
      "the new syntax is .resample(...).mean()\n",
      "  \"\"\"Entry point for launching an IPython kernel.\n"
     ]
    },
    {
     "data": {
      "text/plain": [
       "2017-09-18 08:00:00     3.0\n",
       "2017-09-18 08:15:00     NaN\n",
       "2017-09-18 08:30:00     NaN\n",
       "2017-09-18 08:45:00     NaN\n",
       "2017-09-18 09:00:00    85.0\n",
       "2017-09-18 09:15:00     NaN\n",
       "2017-09-18 09:30:00     NaN\n",
       "2017-09-18 09:45:00     NaN\n",
       "2017-09-18 10:00:00    74.0\n",
       "2017-09-18 10:15:00     NaN\n",
       "Freq: 15T, dtype: float64"
      ]
     },
     "execution_count": 6,
     "metadata": {},
     "output_type": "execute_result"
    }
   ],
   "source": [
    "sampleTs.resample('15min', how='mean').head(10)"
   ]
  },
  {
   "cell_type": "markdown",
   "metadata": {},
   "source": [
    "#### If you have observed, the data shows time stamps at which the data was not captured as NaN.\n",
    "\n",
    "- How to resolve this issue?"
   ]
  },
  {
   "cell_type": "markdown",
   "metadata": {},
   "source": [
    "## Forward Filling\n",
    "- The Forward and Backward filling can be used to fill missing values.\n",
    "\n",
    "- In forward filling, you have to fill the missing values based on the forward values."
   ]
  },
  {
   "cell_type": "code",
   "execution_count": 7,
   "metadata": {},
   "outputs": [
    {
     "name": "stderr",
     "output_type": "stream",
     "text": [
      "E:\\Anaconda3\\lib\\site-packages\\ipykernel_launcher.py:1: FutureWarning: fill_method is deprecated to .resample()\n",
      "the new syntax is .resample(...).ffill()\n",
      "  \"\"\"Entry point for launching an IPython kernel.\n"
     ]
    },
    {
     "data": {
      "text/plain": [
       "2017-09-18 08:00:00     3\n",
       "2017-09-18 08:15:00     3\n",
       "2017-09-18 08:30:00     3\n",
       "2017-09-18 08:45:00     3\n",
       "2017-09-18 09:00:00    85\n",
       "2017-09-18 09:15:00    85\n",
       "2017-09-18 09:30:00    85\n",
       "2017-09-18 09:45:00    85\n",
       "2017-09-18 10:00:00    74\n",
       "2017-09-18 10:15:00    74\n",
       "Freq: 15T, dtype: int32"
      ]
     },
     "execution_count": 7,
     "metadata": {},
     "output_type": "execute_result"
    }
   ],
   "source": [
    "sampleTs.resample('15min', fill_method='ffill').head(10)"
   ]
  },
  {
   "cell_type": "markdown",
   "metadata": {},
   "source": [
    "## Backward Filling\n",
    "In backward filling, the missing values are filled from backwards."
   ]
  },
  {
   "cell_type": "code",
   "execution_count": 8,
   "metadata": {},
   "outputs": [
    {
     "name": "stderr",
     "output_type": "stream",
     "text": [
      "E:\\Anaconda3\\lib\\site-packages\\ipykernel_launcher.py:1: FutureWarning: fill_method is deprecated to .resample()\n",
      "the new syntax is .resample(...).bfill()\n",
      "  \"\"\"Entry point for launching an IPython kernel.\n"
     ]
    },
    {
     "data": {
      "text/plain": [
       "2017-09-18 08:00:00     3\n",
       "2017-09-18 08:15:00    85\n",
       "2017-09-18 08:30:00    85\n",
       "2017-09-18 08:45:00    85\n",
       "2017-09-18 09:00:00    85\n",
       "2017-09-18 09:15:00    74\n",
       "2017-09-18 09:30:00    74\n",
       "2017-09-18 09:45:00    74\n",
       "2017-09-18 10:00:00    74\n",
       "2017-09-18 10:15:00    28\n",
       "Freq: 15T, dtype: int32"
      ]
     },
     "execution_count": 8,
     "metadata": {},
     "output_type": "execute_result"
    }
   ],
   "source": [
    "sampleTs.resample('15min', fill_method='bfill').head(10)"
   ]
  },
  {
   "cell_type": "markdown",
   "metadata": {},
   "source": [
    "## Fill with Limitation\n",
    "When you fill the missing values, you can also limit the number of fills."
   ]
  },
  {
   "cell_type": "code",
   "execution_count": 2,
   "metadata": {},
   "outputs": [
    {
     "ename": "NameError",
     "evalue": "name 'sampleTs' is not defined",
     "output_type": "error",
     "traceback": [
      "\u001b[1;31m---------------------------------------------------------------------------\u001b[0m",
      "\u001b[1;31mNameError\u001b[0m                                 Traceback (most recent call last)",
      "\u001b[1;32m<ipython-input-2-fade7792e709>\u001b[0m in \u001b[0;36m<module>\u001b[1;34m()\u001b[0m\n\u001b[1;32m----> 1\u001b[1;33m \u001b[0msampleTs\u001b[0m\u001b[1;33m.\u001b[0m\u001b[0mresample\u001b[0m\u001b[1;33m(\u001b[0m\u001b[1;34m'15min'\u001b[0m\u001b[1;33m,\u001b[0m \u001b[0mfill_method\u001b[0m\u001b[1;33m=\u001b[0m\u001b[1;34m'ffill'\u001b[0m\u001b[1;33m,\u001b[0m \u001b[0mlimit\u001b[0m\u001b[1;33m=\u001b[0m\u001b[1;36m2\u001b[0m\u001b[1;33m)\u001b[0m\u001b[1;33m.\u001b[0m\u001b[0mhead\u001b[0m\u001b[1;33m(\u001b[0m\u001b[1;33m)\u001b[0m\u001b[1;33m\u001b[0m\u001b[0m\n\u001b[0m",
      "\u001b[1;31mNameError\u001b[0m: name 'sampleTs' is not defined"
     ]
    }
   ],
   "source": [
    "sampleTs.resample('15min', fill_method='ffill', limit=2).head()"
   ]
  },
  {
   "cell_type": "markdown",
   "metadata": {},
   "source": [
    "#### You have noticed that the number of fills is limited to 2 in the above example. This can be any number."
   ]
  },
  {
   "cell_type": "markdown",
   "metadata": {},
   "source": [
    "## Interpolation\n",
    "- Forward or Backward filling is a work around to fill the missing values.\n",
    "\n",
    "- It might not be accurate.\n",
    "\n",
    "- Some algorithms can fill the missing values based on the data patterns.\n",
    "\n",
    "- This approach works better to get more accurate insights from Time Series Data.\n",
    "\n",
    "- This method is called interpolation.\n",
    "\n",
    "- You will now learn how to perform interpolation in Python."
   ]
  },
  {
   "cell_type": "markdown",
   "metadata": {},
   "source": [
    "## Interpolation Example\n",
    "In the below example, you will see how to use interpolation to fix the missing values."
   ]
  },
  {
   "cell_type": "code",
   "execution_count": 9,
   "metadata": {},
   "outputs": [
    {
     "name": "stderr",
     "output_type": "stream",
     "text": [
      "E:\\Anaconda3\\lib\\site-packages\\ipykernel_launcher.py:1: FutureWarning: how in .resample() is deprecated\n",
      "the new syntax is .resample(...).min()\n",
      "  \"\"\"Entry point for launching an IPython kernel.\n"
     ]
    },
    {
     "data": {
      "text/plain": [
       "2017-09-30    0\n",
       "Freq: M, dtype: int32"
      ]
     },
     "execution_count": 9,
     "metadata": {},
     "output_type": "execute_result"
    }
   ],
   "source": [
    "interEx = sampleTs.resample('M', how='min')\n",
    "interEx.interpolate().head(10)"
   ]
  },
  {
   "cell_type": "code",
   "execution_count": 15,
   "metadata": {},
   "outputs": [
    {
     "data": {
      "text/html": [
       "<div>\n",
       "<style scoped>\n",
       "    .dataframe tbody tr th:only-of-type {\n",
       "        vertical-align: middle;\n",
       "    }\n",
       "\n",
       "    .dataframe tbody tr th {\n",
       "        vertical-align: top;\n",
       "    }\n",
       "\n",
       "    .dataframe thead th {\n",
       "        text-align: right;\n",
       "    }\n",
       "</style>\n",
       "<table border=\"1\" class=\"dataframe\">\n",
       "  <thead>\n",
       "    <tr style=\"text-align: right;\">\n",
       "      <th></th>\n",
       "      <th>quarter</th>\n",
       "      <th>stock</th>\n",
       "      <th>open</th>\n",
       "      <th>high</th>\n",
       "      <th>low</th>\n",
       "      <th>close</th>\n",
       "      <th>volume</th>\n",
       "      <th>percent_change_price</th>\n",
       "      <th>percent_change_volume_over_last_wk</th>\n",
       "      <th>previous_weeks_volume</th>\n",
       "      <th>next_weeks_open</th>\n",
       "      <th>next_weeks_close</th>\n",
       "      <th>percent_change_next_weeks_price</th>\n",
       "      <th>days_to_next_dividend</th>\n",
       "      <th>percent_return_next_dividend</th>\n",
       "    </tr>\n",
       "    <tr>\n",
       "      <th>date</th>\n",
       "      <th></th>\n",
       "      <th></th>\n",
       "      <th></th>\n",
       "      <th></th>\n",
       "      <th></th>\n",
       "      <th></th>\n",
       "      <th></th>\n",
       "      <th></th>\n",
       "      <th></th>\n",
       "      <th></th>\n",
       "      <th></th>\n",
       "      <th></th>\n",
       "      <th></th>\n",
       "      <th></th>\n",
       "      <th></th>\n",
       "    </tr>\n",
       "  </thead>\n",
       "  <tbody>\n",
       "    <tr>\n",
       "      <th>2011-01-07</th>\n",
       "      <td>1</td>\n",
       "      <td>AA</td>\n",
       "      <td>$15.82</td>\n",
       "      <td>$16.72</td>\n",
       "      <td>$15.78</td>\n",
       "      <td>$16.42</td>\n",
       "      <td>239655616</td>\n",
       "      <td>3.79267</td>\n",
       "      <td>NaN</td>\n",
       "      <td>NaN</td>\n",
       "      <td>$16.71</td>\n",
       "      <td>$15.97</td>\n",
       "      <td>-4.428490</td>\n",
       "      <td>26</td>\n",
       "      <td>0.182704</td>\n",
       "    </tr>\n",
       "    <tr>\n",
       "      <th>2011-01-14</th>\n",
       "      <td>1</td>\n",
       "      <td>AA</td>\n",
       "      <td>$16.71</td>\n",
       "      <td>$16.71</td>\n",
       "      <td>$15.64</td>\n",
       "      <td>$15.97</td>\n",
       "      <td>242963398</td>\n",
       "      <td>-4.42849</td>\n",
       "      <td>1.380223</td>\n",
       "      <td>239655616.0</td>\n",
       "      <td>$16.19</td>\n",
       "      <td>$15.79</td>\n",
       "      <td>-2.470660</td>\n",
       "      <td>19</td>\n",
       "      <td>0.187852</td>\n",
       "    </tr>\n",
       "    <tr>\n",
       "      <th>2011-01-21</th>\n",
       "      <td>1</td>\n",
       "      <td>AA</td>\n",
       "      <td>$16.19</td>\n",
       "      <td>$16.38</td>\n",
       "      <td>$15.60</td>\n",
       "      <td>$15.79</td>\n",
       "      <td>138428495</td>\n",
       "      <td>-2.47066</td>\n",
       "      <td>-43.024959</td>\n",
       "      <td>242963398.0</td>\n",
       "      <td>$15.87</td>\n",
       "      <td>$16.13</td>\n",
       "      <td>1.638310</td>\n",
       "      <td>12</td>\n",
       "      <td>0.189994</td>\n",
       "    </tr>\n",
       "    <tr>\n",
       "      <th>2011-01-28</th>\n",
       "      <td>1</td>\n",
       "      <td>AA</td>\n",
       "      <td>$15.87</td>\n",
       "      <td>$16.63</td>\n",
       "      <td>$15.82</td>\n",
       "      <td>$16.13</td>\n",
       "      <td>151379173</td>\n",
       "      <td>1.63831</td>\n",
       "      <td>9.355500</td>\n",
       "      <td>138428495.0</td>\n",
       "      <td>$16.18</td>\n",
       "      <td>$17.14</td>\n",
       "      <td>5.933250</td>\n",
       "      <td>5</td>\n",
       "      <td>0.185989</td>\n",
       "    </tr>\n",
       "    <tr>\n",
       "      <th>2011-02-04</th>\n",
       "      <td>1</td>\n",
       "      <td>AA</td>\n",
       "      <td>$16.18</td>\n",
       "      <td>$17.39</td>\n",
       "      <td>$16.18</td>\n",
       "      <td>$17.14</td>\n",
       "      <td>154387761</td>\n",
       "      <td>5.93325</td>\n",
       "      <td>1.987452</td>\n",
       "      <td>151379173.0</td>\n",
       "      <td>$17.33</td>\n",
       "      <td>$17.37</td>\n",
       "      <td>0.230814</td>\n",
       "      <td>97</td>\n",
       "      <td>0.175029</td>\n",
       "    </tr>\n",
       "  </tbody>\n",
       "</table>\n",
       "</div>"
      ],
      "text/plain": [
       "            quarter stock    open    high     low   close     volume  \\\n",
       "date                                                                   \n",
       "2011-01-07        1    AA  $15.82  $16.72  $15.78  $16.42  239655616   \n",
       "2011-01-14        1    AA  $16.71  $16.71  $15.64  $15.97  242963398   \n",
       "2011-01-21        1    AA  $16.19  $16.38  $15.60  $15.79  138428495   \n",
       "2011-01-28        1    AA  $15.87  $16.63  $15.82  $16.13  151379173   \n",
       "2011-02-04        1    AA  $16.18  $17.39  $16.18  $17.14  154387761   \n",
       "\n",
       "            percent_change_price  percent_change_volume_over_last_wk  \\\n",
       "date                                                                   \n",
       "2011-01-07               3.79267                                 NaN   \n",
       "2011-01-14              -4.42849                            1.380223   \n",
       "2011-01-21              -2.47066                          -43.024959   \n",
       "2011-01-28               1.63831                            9.355500   \n",
       "2011-02-04               5.93325                            1.987452   \n",
       "\n",
       "            previous_weeks_volume next_weeks_open next_weeks_close  \\\n",
       "date                                                                 \n",
       "2011-01-07                    NaN          $16.71           $15.97   \n",
       "2011-01-14            239655616.0          $16.19           $15.79   \n",
       "2011-01-21            242963398.0          $15.87           $16.13   \n",
       "2011-01-28            138428495.0          $16.18           $17.14   \n",
       "2011-02-04            151379173.0          $17.33           $17.37   \n",
       "\n",
       "            percent_change_next_weeks_price  days_to_next_dividend  \\\n",
       "date                                                                 \n",
       "2011-01-07                        -4.428490                     26   \n",
       "2011-01-14                        -2.470660                     19   \n",
       "2011-01-21                         1.638310                     12   \n",
       "2011-01-28                         5.933250                      5   \n",
       "2011-02-04                         0.230814                     97   \n",
       "\n",
       "            percent_return_next_dividend  \n",
       "date                                      \n",
       "2011-01-07                      0.182704  \n",
       "2011-01-14                      0.187852  \n",
       "2011-01-21                      0.189994  \n",
       "2011-01-28                      0.185989  \n",
       "2011-02-04                      0.175029  "
      ]
     },
     "execution_count": 15,
     "metadata": {},
     "output_type": "execute_result"
    }
   ],
   "source": [
    "import pandas as pd\n",
    "dataFrame = pd.read_csv('dow_jones_index.data',parse_dates=[\"date\"], index_col=\"date\")\n",
    "dataFrame.head()"
   ]
  },
  {
   "cell_type": "code",
   "execution_count": 16,
   "metadata": {},
   "outputs": [],
   "source": [
    "closeTS = dataFrame[(dataFrame.stock == 'AA')].close.str.replace('$',' ').astype(float)"
   ]
  },
  {
   "cell_type": "code",
   "execution_count": 32,
   "metadata": {},
   "outputs": [
    {
     "name": "stderr",
     "output_type": "stream",
     "text": [
      "E:\\Anaconda3\\lib\\site-packages\\ipykernel_launcher.py:1: FutureWarning: fill_method is deprecated to .resample()\n",
      "the new syntax is .resample(...).mean().ffill(limit=2)\n",
      "  \"\"\"Entry point for launching an IPython kernel.\n"
     ]
    },
    {
     "data": {
      "text/plain": [
       "date\n",
       "2011-01-07    16.42\n",
       "2011-01-08    16.42\n",
       "2011-01-09    16.42\n",
       "2011-01-10      NaN\n",
       "2011-01-11      NaN\n",
       "2011-01-12      NaN\n",
       "2011-01-13      NaN\n",
       "2011-01-14    15.97\n",
       "2011-01-15    15.97\n",
       "2011-01-16    15.97\n",
       "2011-01-17      NaN\n",
       "2011-01-18      NaN\n",
       "2011-01-19      NaN\n",
       "2011-01-20      NaN\n",
       "2011-01-21    15.79\n",
       "2011-01-22    15.79\n",
       "2011-01-23    15.79\n",
       "2011-01-24      NaN\n",
       "2011-01-25      NaN\n",
       "2011-01-26      NaN\n",
       "2011-01-27      NaN\n",
       "2011-01-28    16.13\n",
       "Freq: D, Name: close, dtype: float64"
      ]
     },
     "execution_count": 32,
     "metadata": {},
     "output_type": "execute_result"
    }
   ],
   "source": [
    "closeTS['01-2011'].resample('D', how='mean', fill_method='ffill', limit=2)"
   ]
  },
  {
   "cell_type": "markdown",
   "metadata": {},
   "source": [
    "## Time Zones in Python\n",
    "\n",
    "- To work with time zones, we can use pytz package in Python\n",
    "- There are many time zones in this world.\n",
    "- One of the most used standard time zone is (coordinated universal time) UTC.\n",
    "- All other time zones are expressed as offset of UTC. For example: US Eastern Time Zone is 4 hours behind UTC during Daylight saving and 5 hours behind rest of the year."
   ]
  },
  {
   "cell_type": "code",
   "execution_count": 34,
   "metadata": {},
   "outputs": [
    {
     "data": {
      "text/plain": [
       "['US/Eastern', 'US/Hawaii', 'US/Mountain', 'US/Pacific', 'UTC']"
      ]
     },
     "execution_count": 34,
     "metadata": {},
     "output_type": "execute_result"
    }
   ],
   "source": [
    "import pytz \n",
    "pytz.common_timezones[-5:]"
   ]
  },
  {
   "cell_type": "markdown",
   "metadata": {},
   "source": [
    "#### In the example above, we have selected some common timezones."
   ]
  },
  {
   "cell_type": "markdown",
   "metadata": {},
   "source": [
    "### Time Zone Object"
   ]
  },
  {
   "cell_type": "code",
   "execution_count": 40,
   "metadata": {},
   "outputs": [
    {
     "data": {
      "text/plain": [
       "<DstTzInfo 'US/Eastern' LMT-1 day, 19:04:00 STD>"
      ]
     },
     "execution_count": 40,
     "metadata": {},
     "output_type": "execute_result"
    }
   ],
   "source": [
    "usEastTz = pytz.timezone('US/Eastern')\n",
    "usEastTz "
   ]
  },
  {
   "cell_type": "markdown",
   "metadata": {},
   "source": [
    "- When you execute the above command, you will get the current time at the specified time zone.\n",
    "- In the following cards, you will learn how to use timezone extensively."
   ]
  },
  {
   "cell_type": "markdown",
   "metadata": {},
   "source": [
    "### Localization\n",
    "- Localization is the first step towards standardizing the time zone. Any specific time stamp is first localized to a given time zone.\n",
    "- You will now learn how to set your datetime index to a specific time zone."
   ]
  },
  {
   "cell_type": "code",
   "execution_count": 4,
   "metadata": {},
   "outputs": [
    {
     "data": {
      "text/plain": [
       "DatetimeIndex(['2017-09-18 09:30:00+00:00', '2017-09-19 09:30:00+00:00',\n",
       "               '2017-09-20 09:30:00+00:00', '2017-09-21 09:30:00+00:00',\n",
       "               '2017-09-22 09:30:00+00:00', '2017-09-23 09:30:00+00:00'],\n",
       "              dtype='datetime64[ns, UTC]', freq='D')"
      ]
     },
     "execution_count": 4,
     "metadata": {},
     "output_type": "execute_result"
    }
   ],
   "source": [
    "import pandas as pd \n",
    "import numpy as np\n",
    "import random \n",
    "timeZoneRng = pd.date_range('9/18/2017 9:30', periods=6, freq='D',tz='UTC')\n",
    "timeZoneRng"
   ]
  },
  {
   "cell_type": "code",
   "execution_count": 5,
   "metadata": {},
   "outputs": [
    {
     "data": {
      "text/plain": [
       "<UTC>"
      ]
     },
     "execution_count": 5,
     "metadata": {},
     "output_type": "execute_result"
    }
   ],
   "source": [
    "timeZoneTs = pd.Series(np.random.randn(len(timeZoneRng)), index=timeZoneRng)\n",
    "timeZoneTs.index.tz"
   ]
  },
  {
   "cell_type": "markdown",
   "metadata": {},
   "source": [
    "- In the example above, the given timezone is localized to UTC using the tz= parameter.\n",
    "- You can also localize using the tz_localize() function."
   ]
  },
  {
   "cell_type": "markdown",
   "metadata": {},
   "source": [
    "### Conversion"
   ]
  },
  {
   "cell_type": "markdown",
   "metadata": {},
   "source": [
    "- In the previous card, you have seen how to localize your date-time value to a particular time zone.\n",
    "\n",
    "- If you want to convert your date-time value to another time zone you can use the tz_convert function."
   ]
  },
  {
   "cell_type": "code",
   "execution_count": 42,
   "metadata": {},
   "outputs": [
    {
     "data": {
      "text/plain": [
       "2017-09-18 09:30:00+00:00    0.152252\n",
       "2017-09-19 09:30:00+00:00   -2.339544\n",
       "2017-09-20 09:30:00+00:00    0.590262\n",
       "2017-09-21 09:30:00+00:00    1.095485\n",
       "2017-09-22 09:30:00+00:00    1.880881\n",
       "2017-09-23 09:30:00+00:00    1.269767\n",
       "Freq: D, dtype: float64"
      ]
     },
     "execution_count": 42,
     "metadata": {},
     "output_type": "execute_result"
    }
   ],
   "source": [
    "timeZoneTs"
   ]
  },
  {
   "cell_type": "code",
   "execution_count": 43,
   "metadata": {},
   "outputs": [
    {
     "data": {
      "text/plain": [
       "2017-09-18 05:30:00-04:00    0.152252\n",
       "2017-09-19 05:30:00-04:00   -2.339544\n",
       "2017-09-20 05:30:00-04:00    0.590262\n",
       "2017-09-21 05:30:00-04:00    1.095485\n",
       "2017-09-22 05:30:00-04:00    1.880881\n",
       "2017-09-23 05:30:00-04:00    1.269767\n",
       "Freq: D, dtype: float64"
      ]
     },
     "execution_count": 43,
     "metadata": {},
     "output_type": "execute_result"
    }
   ],
   "source": [
    "timeZoneTs.tz_convert('US/Eastern')"
   ]
  },
  {
   "cell_type": "markdown",
   "metadata": {},
   "source": [
    "## Using Timestamp\n",
    "You can create date values and convert them to different time zones and also perform similar operations with time stamp values."
   ]
  },
  {
   "cell_type": "code",
   "execution_count": 7,
   "metadata": {},
   "outputs": [
    {
     "data": {
      "text/plain": [
       "Timestamp('2011-09-19 04:00:00')"
      ]
     },
     "execution_count": 7,
     "metadata": {},
     "output_type": "execute_result"
    }
   ],
   "source": [
    "sampleTimeStamp =  pd.Timestamp('2011-09-19 04:00')\n",
    "sampleTimeStamp"
   ]
  },
  {
   "cell_type": "code",
   "execution_count": 8,
   "metadata": {},
   "outputs": [
    {
     "data": {
      "text/plain": [
       "Timestamp('2011-09-19 04:00:00+0000', tz='UTC')"
      ]
     },
     "execution_count": 8,
     "metadata": {},
     "output_type": "execute_result"
    }
   ],
   "source": [
    "timeStamp_utc = sampleTimeStamp.tz_localize('UTC')\n",
    "timeStamp_utc"
   ]
  },
  {
   "cell_type": "markdown",
   "metadata": {},
   "source": [
    "#### The above example explains how to create a sample timestamp using TimeStamp function, Localize and Convert the timestamp to the desired value."
   ]
  },
  {
   "cell_type": "markdown",
   "metadata": {},
   "source": [
    "## Daylight Savings\n",
    "- Some timezones follow the daylight savings concept whereas some done.\n",
    "- To offset the time based on Daylight Savings, you can use the DateOffset() function.\n",
    "\n",
    "The example below explains the steps."
   ]
  },
  {
   "cell_type": "code",
   "execution_count": 9,
   "metadata": {},
   "outputs": [
    {
     "data": {
      "text/plain": [
       "Timestamp('2012-03-12 01:30:00-0400', tz='US/Eastern')"
      ]
     },
     "execution_count": 9,
     "metadata": {},
     "output_type": "execute_result"
    }
   ],
   "source": [
    "# 30 minutes before DST transition\n",
    "from pandas.tseries.offsets import Hour\n",
    "stamp = pd.Timestamp('2012-03-12 01:30', tz='US/Eastern')\n",
    "stamp"
   ]
  },
  {
   "cell_type": "code",
   "execution_count": 10,
   "metadata": {},
   "outputs": [
    {
     "data": {
      "text/plain": [
       "Timestamp('2012-03-12 02:30:00-0400', tz='US/Eastern')"
      ]
     },
     "execution_count": 10,
     "metadata": {},
     "output_type": "execute_result"
    }
   ],
   "source": [
    "stamp + Hour()"
   ]
  },
  {
   "cell_type": "code",
   "execution_count": null,
   "metadata": {},
   "outputs": [],
   "source": [
    "# 90 minutes before DST transition"
   ]
  },
  {
   "cell_type": "code",
   "execution_count": 11,
   "metadata": {},
   "outputs": [],
   "source": [
    "stamp = pd.Timestamp('2012-11-04 00:30', tz='US/Eastern')"
   ]
  },
  {
   "cell_type": "code",
   "execution_count": 12,
   "metadata": {},
   "outputs": [
    {
     "data": {
      "text/plain": [
       "Timestamp('2012-11-04 00:30:00-0400', tz='US/Eastern')"
      ]
     },
     "execution_count": 12,
     "metadata": {},
     "output_type": "execute_result"
    }
   ],
   "source": [
    "stamp"
   ]
  },
  {
   "cell_type": "code",
   "execution_count": 13,
   "metadata": {},
   "outputs": [
    {
     "data": {
      "text/plain": [
       "Timestamp('2012-11-04 01:30:00-0500', tz='US/Eastern')"
      ]
     },
     "execution_count": 13,
     "metadata": {},
     "output_type": "execute_result"
    }
   ],
   "source": [
    "stamp + 2 * Hour()"
   ]
  },
  {
   "cell_type": "markdown",
   "metadata": {},
   "source": [
    "## Combining Different Timezones\n",
    "- When you work in a Multi National Company, you can get data from different time zone. But you have to bring them to one standard for working.\n",
    "\n",
    "- In the below example, you will learn how to combine multiple timezones."
   ]
  },
  {
   "cell_type": "code",
   "execution_count": 15,
   "metadata": {},
   "outputs": [
    {
     "data": {
      "text/plain": [
       "2017-09-19 09:30:00   -0.857282\n",
       "2017-09-20 09:30:00   -1.011168\n",
       "2017-09-21 09:30:00   -0.209842\n",
       "2017-09-22 09:30:00    1.204258\n",
       "2017-09-25 09:30:00    0.091135\n",
       "2017-09-26 09:30:00    0.030500\n",
       "2017-09-27 09:30:00   -0.595578\n",
       "2017-09-28 09:30:00   -0.580863\n",
       "2017-09-29 09:30:00   -0.410066\n",
       "2017-10-02 09:30:00   -0.556762\n",
       "Freq: B, dtype: float64"
      ]
     },
     "execution_count": 15,
     "metadata": {},
     "output_type": "execute_result"
    }
   ],
   "source": [
    "dateRng = pd.date_range('9/19/2017 9:30', periods=10, freq='B')\n",
    "timeSeries =  pd.Series(np.random.randn(len(dateRng)), index=dateRng)\n",
    "timeSeries"
   ]
  },
  {
   "cell_type": "code",
   "execution_count": 16,
   "metadata": {},
   "outputs": [
    {
     "data": {
      "text/plain": [
       "2017-09-19 09:30:00+08:00   -0.857282\n",
       "2017-09-20 09:30:00+08:00   -1.011168\n",
       "2017-09-21 09:30:00+08:00   -0.209842\n",
       "2017-09-22 09:30:00+08:00    1.204258\n",
       "2017-09-25 09:30:00+08:00    0.091135\n",
       "2017-09-26 09:30:00+08:00    0.030500\n",
       "2017-09-27 09:30:00+08:00   -0.595578\n",
       "Freq: B, dtype: float64"
      ]
     },
     "execution_count": 16,
     "metadata": {},
     "output_type": "execute_result"
    }
   ],
   "source": [
    "tz1 = timeSeries[:7].tz_localize('Asia/Singapore')\n",
    "tz1"
   ]
  },
  {
   "cell_type": "code",
   "execution_count": 17,
   "metadata": {},
   "outputs": [
    {
     "data": {
      "text/plain": [
       "2017-09-21 10:30:00+09:00   -0.209842\n",
       "2017-09-22 10:30:00+09:00    1.204258\n",
       "2017-09-25 10:30:00+09:00    0.091135\n",
       "2017-09-26 10:30:00+09:00    0.030500\n",
       "2017-09-27 10:30:00+09:00   -0.595578\n",
       "Freq: B, dtype: float64"
      ]
     },
     "execution_count": 17,
     "metadata": {},
     "output_type": "execute_result"
    }
   ],
   "source": [
    "tz2 = tz1[2:].tz_convert('Asia/Seoul')\n",
    "tz2"
   ]
  },
  {
   "cell_type": "code",
   "execution_count": 19,
   "metadata": {},
   "outputs": [
    {
     "data": {
      "text/plain": [
       "DatetimeIndex(['2017-09-19 01:30:00+00:00', '2017-09-20 01:30:00+00:00',\n",
       "               '2017-09-21 01:30:00+00:00', '2017-09-22 01:30:00+00:00',\n",
       "               '2017-09-25 01:30:00+00:00', '2017-09-26 01:30:00+00:00',\n",
       "               '2017-09-27 01:30:00+00:00'],\n",
       "              dtype='datetime64[ns, UTC]', freq='B')"
      ]
     },
     "execution_count": 19,
     "metadata": {},
     "output_type": "execute_result"
    }
   ],
   "source": [
    "combine = tz1 + tz2\n",
    "combine.index"
   ]
  },
  {
   "cell_type": "markdown",
   "metadata": {},
   "source": [
    "# Time Series Plotting\n",
    "- Plotting in Time series data is very important. \n",
    "- The behavior of a Time Series can be understood by visualizing. \n",
    "\n",
    "In this topic, you will learn how to visualize time series using Python."
   ]
  },
  {
   "cell_type": "markdown",
   "metadata": {},
   "source": [
    "## Plotting using Python\n",
    "- Plotting is easy with Python. You just have to pass the time series to the plot function."
   ]
  },
  {
   "cell_type": "code",
   "execution_count": 52,
   "metadata": {},
   "outputs": [
    {
     "data": {
      "text/plain": [
       "2017-01-01   -2\n",
       "2017-02-01   -7\n",
       "2017-03-01   -1\n",
       "2017-04-01    3\n",
       "2017-05-01    4\n",
       "Freq: MS, dtype: int32"
      ]
     },
     "execution_count": 52,
     "metadata": {},
     "output_type": "execute_result"
    }
   ],
   "source": [
    "%matplotlib inline \n",
    "import pandas as pd\n",
    "import numpy as np \n",
    "sampleRng = pd.date_range(start='2017', periods=120, freq='MS')\n",
    "sampleTs = pd.Series(np.random.randint(-10, 10, size=len(sampleRng)), sampleRng).cumsum()\n",
    "sampleTs.head()"
   ]
  },
  {
   "cell_type": "markdown",
   "metadata": {},
   "source": [
    "### The above code creates a sample time series for plotting."
   ]
  },
  {
   "cell_type": "markdown",
   "metadata": {},
   "source": [
    "## Time Series Plot"
   ]
  },
  {
   "cell_type": "code",
   "execution_count": 53,
   "metadata": {},
   "outputs": [
    {
     "data": {
      "text/plain": [
       "<matplotlib.axes._subplots.AxesSubplot at 0x29112c37c18>"
      ]
     },
     "execution_count": 53,
     "metadata": {},
     "output_type": "execute_result"
    },
    {
     "data": {
      "image/png": "[encoded data removed]",
      "text/plain": [
       "<Figure size 432x288 with 1 Axes>"
      ]
     },
     "metadata": {},
     "output_type": "display_data"
    }
   ],
   "source": [
    "sampleTs.plot(c='r', title='Sample time series')"
   ]
  },
  {
   "cell_type": "markdown",
   "metadata": {},
   "source": [
    "#### In the above code, the time series is passed to the plot function. The necessary aesthetics like color, gridline, and scale can also be passed."
   ]
  },
  {
   "cell_type": "markdown",
   "metadata": {},
   "source": [
    "### Aggregation Plot 1"
   ]
  },
  {
   "cell_type": "code",
   "execution_count": 48,
   "metadata": {},
   "outputs": [
    {
     "data": {
      "text/plain": [
       "2017-12-31    AxesSubplot(0.125,0.125;0.775x0.755)\n",
       "2019-12-31    AxesSubplot(0.125,0.125;0.775x0.755)\n",
       "2021-12-31    AxesSubplot(0.125,0.125;0.775x0.755)\n",
       "2023-12-31    AxesSubplot(0.125,0.125;0.775x0.755)\n",
       "2025-12-31    AxesSubplot(0.125,0.125;0.775x0.755)\n",
       "2027-12-31    AxesSubplot(0.125,0.125;0.775x0.755)\n",
       "Freq: 2A-DEC, dtype: object"
      ]
     },
     "execution_count": 48,
     "metadata": {},
     "output_type": "execute_result"
    },
    {
     "data": {
      "image/png": "[encoded data removed]",
      "text/plain": [
       "<Figure size 432x288 with 1 Axes>"
      ]
     },
     "metadata": {},
     "output_type": "display_data"
    }
   ],
   "source": [
    "sampleTs.resample('2A').plot(c='b', ls='--')"
   ]
  },
  {
   "cell_type": "markdown",
   "metadata": {},
   "source": [
    "### In the above code, we have done a resampling of the time series annually and then plotted the values."
   ]
  },
  {
   "cell_type": "markdown",
   "metadata": {},
   "source": [
    "### Aggregation Plot 2"
   ]
  },
  {
   "cell_type": "code",
   "execution_count": 49,
   "metadata": {},
   "outputs": [
    {
     "data": {
      "text/plain": [
       "2017-12-31    AxesSubplot(0.125,0.125;0.775x0.755)\n",
       "2022-12-31    AxesSubplot(0.125,0.125;0.775x0.755)\n",
       "2027-12-31    AxesSubplot(0.125,0.125;0.775x0.755)\n",
       "dtype: object"
      ]
     },
     "execution_count": 49,
     "metadata": {},
     "output_type": "execute_result"
    },
    {
     "data": {
      "image/png": "[encoded data removed]",
      "text/plain": [
       "<Figure size 432x288 with 1 Axes>"
      ]
     },
     "metadata": {},
     "output_type": "display_data"
    }
   ],
   "source": [
    "sampleTs.resample('5A').plot(c='g', ls='-.')"
   ]
  },
  {
   "cell_type": "markdown",
   "metadata": {},
   "source": [
    "### In the above code, we have resampled further and then plot the values."
   ]
  },
  {
   "cell_type": "markdown",
   "metadata": {},
   "source": [
    "### Lag Plot\n",
    "- The Lag Plot is a very important and useful visualization for Time Series Data.\n",
    "- Time Series is a Univariate Data.\n",
    "- In the lag plot, you plotted the actual data against the data with a time lag. \n",
    "- This helps in determining how the current data is predicting the future data."
   ]
  },
  {
   "cell_type": "markdown",
   "metadata": {},
   "source": [
    "### Lag Plot Using Python\n",
    "The below code explains how to create a sample lag plot in Python. You can use the time series created in the previous example."
   ]
  },
  {
   "cell_type": "code",
   "execution_count": 54,
   "metadata": {},
   "outputs": [
    {
     "name": "stderr",
     "output_type": "stream",
     "text": [
      "E:\\Anaconda3\\lib\\site-packages\\ipykernel_launcher.py:2: FutureWarning: 'pandas.tools.plotting.lag_plot' is deprecated, import 'pandas.plotting.lag_plot' instead.\n",
      "  \n"
     ]
    },
    {
     "data": {
      "text/plain": [
       "<matplotlib.axes._subplots.AxesSubplot at 0x29112c637b8>"
      ]
     },
     "execution_count": 54,
     "metadata": {},
     "output_type": "execute_result"
    },
    {
     "data": {
      "image/png": "[encoded data removed]",
      "text/plain": [
       "<Figure size 432x288 with 1 Axes>"
      ]
     },
     "metadata": {},
     "output_type": "display_data"
    }
   ],
   "source": [
    "from pandas.tools.plotting import lag_plot\n",
    "lag_plot(sampleTs)"
   ]
  },
  {
   "cell_type": "markdown",
   "metadata": {},
   "source": [
    "## Auto Correlation Plot\n",
    "- In the lag plot, we have just seen how the data is scattered when plotted against one-time lag.\n",
    "\n",
    "- Autocorrelation plot goes one step further.\n",
    "\n",
    "- Auto Correlation refers to correlating the data with itself. Here we are correlating the data with a one-time lag.\n",
    "\n",
    "- The plot gives a more accurate picture of how the data point is correlated among themselves."
   ]
  },
  {
   "cell_type": "markdown",
   "metadata": {},
   "source": [
    "## Autocorrelation Plot in Python"
   ]
  },
  {
   "cell_type": "code",
   "execution_count": 25,
   "metadata": {},
   "outputs": [
    {
     "name": "stderr",
     "output_type": "stream",
     "text": [
      "E:\\Anaconda3\\lib\\site-packages\\ipykernel_launcher.py:2: FutureWarning: 'pandas.tools.plotting.autocorrelation_plot' is deprecated, import 'pandas.plotting.autocorrelation_plot' instead.\n",
      "  \n"
     ]
    },
    {
     "data": {
      "text/plain": [
       "<matplotlib.axes._subplots.AxesSubplot at 0x2910f93db70>"
      ]
     },
     "execution_count": 25,
     "metadata": {},
     "output_type": "execute_result"
    },
    {
     "data": {
      "image/png": "[encoded data removed]",
      "text/plain": [
       "<Figure size 432x288 with 1 Axes>"
      ]
     },
     "metadata": {},
     "output_type": "display_data"
    }
   ],
   "source": [
    "from pandas.tools.plotting import autocorrelation_plot\n",
    "autocorrelation_plot(sampleTs)"
   ]
  },
  {
   "cell_type": "markdown",
   "metadata": {},
   "source": [
    "- The plot drawn above shows the autocorrelation plot for the time series.\n",
    "- When the autocorrelation plot shows an exponential behavior, the time series is stationary."
   ]
  },
  {
   "cell_type": "markdown",
   "metadata": {},
   "source": [
    "## Stationarity\n",
    "Stationarity is a very significant property in Time Series Analysis. In Time series, data is collected at different time intervals. The data might behave in a deterministic or stochastic nature.\n",
    "\n",
    "Models can be applied only when your data is deterministic. If the nature of the data is stochastic then the model results will not be interpretable. Hence we have to check this property before applying the model."
   ]
  },
  {
   "cell_type": "markdown",
   "metadata": {},
   "source": [
    "### What is Stationarity?"
   ]
  },
  {
   "cell_type": "markdown",
   "metadata": {},
   "source": [
    "- In statistical terms, the mean, variance and the temporal correlation remain constant over time.\n",
    "\n",
    "- A simpler definition is that there are no seasonal or trend components in the time series."
   ]
  },
  {
   "cell_type": "markdown",
   "metadata": {},
   "source": [
    "### How to Check for Stationarity?\n",
    "- Data Visualization: You can look at your data and see if there are any trends or patterns. This is a very crude approach.\n",
    "- Summary Statistics: You can take some summary statistics at different time intervals and see how the data behaves.\n",
    "- Statistical Tests: You can apply certain specific statistical tests and check if your time series supports stationarity property."
   ]
  },
  {
   "cell_type": "markdown",
   "metadata": {},
   "source": [
    "## Augmented Dickey - Fuller test\n",
    "ADF test is the best way to determine if the time series data is stationary or not.\n",
    "\n",
    "This kind of test is known as Unit Root Test.\n",
    "\n",
    "The main objective of this test is that it identifies how the trend component determines the time series."
   ]
  },
  {
   "cell_type": "markdown",
   "metadata": {},
   "source": [
    "### Interpreting the Results\n",
    "- Null Hypothesis: H0 - If accepted then the time series data is non-stationary, and it has a unit root.\n",
    "\n",
    "- Alternate Hypothesis: H1 - The null hypothesis is rejected. The time series data is stationary and does not have any unit root.\n",
    "\n",
    "### Results\n",
    "\n",
    "- p-value > 0.05: Accept the (H0), the data is non-stationary and has a unit root.\n",
    "\n",
    "- p-value <= 0.05: Reject the H0, the data is stationary and does not have a unit root."
   ]
  },
  {
   "cell_type": "markdown",
   "metadata": {},
   "source": [
    "### Auto Correlation Function\n",
    "- Another way of determining stationarity is Autocorrelation Function. Here, you find the correlation between two data points that are one time step away.\n",
    "- When you visualize this correlation, you can get insights on the stationarity of the time series.\n",
    "- If the ACF plot is having an exponential decay, it means the time series is stationary."
   ]
  },
  {
   "cell_type": "markdown",
   "metadata": {},
   "source": [
    "## Stationarity Check\n",
    "In Python, the statsmodels package has a method named adffuller that can be used for stationarity check."
   ]
  },
  {
   "cell_type": "code",
   "execution_count": 55,
   "metadata": {},
   "outputs": [],
   "source": [
    "from statsmodels.tsa.stattools import adfuller"
   ]
  },
  {
   "cell_type": "markdown",
   "metadata": {},
   "source": [
    "Once you pass your time series to this method, you will be able to get the results.\n",
    "\n",
    "The output has the following entities.\n",
    "\n",
    "ADF Statistic: \n",
    "p-value: \n",
    "\t1%: \n",
    "\t5%: \n",
    "\t10%:"
   ]
  },
  {
   "cell_type": "markdown",
   "metadata": {},
   "source": [
    "- The more negative the ADF statistic value is the more likely the data is stationary.\n",
    "\n",
    "- The ADF Statistic should be compared to critical p-values that are at 1, 5, and 10%.\n",
    "\n",
    "- If the ADF statistic value is less than the critical value at 5% and the p-value is less than 0.05, then we can reject the null hypothesis that the data is non-stationary with 95% confidence level."
   ]
  },
  {
   "cell_type": "markdown",
   "metadata": {},
   "source": [
    "## Sample Data Creation\n",
    "Let us create a sample random time series."
   ]
  },
  {
   "cell_type": "code",
   "execution_count": 59,
   "metadata": {},
   "outputs": [],
   "source": [
    "import random \n",
    "import pandas as pd\n",
    "import numpy as np\n",
    "from statsmodels.tsa.stattools import adfuller"
   ]
  },
  {
   "cell_type": "code",
   "execution_count": 60,
   "metadata": {},
   "outputs": [],
   "source": [
    "sampleRng = pd.date_range(start='2017', periods=120, freq='MS')\n",
    "sampleTs = pd.Series(np.random.randint(-10, 10, size=len(sampleRng)), sampleRng).cumsum()"
   ]
  },
  {
   "cell_type": "markdown",
   "metadata": {},
   "source": [
    "### Applying ADF Test"
   ]
  },
  {
   "cell_type": "code",
   "execution_count": 61,
   "metadata": {},
   "outputs": [
    {
     "name": "stdout",
     "output_type": "stream",
     "text": [
      "ADF Statistic: -2.430753\n",
      "p-value: 0.133244\n",
      "\t1%: -3.487\n",
      "\t5%: -2.886\n",
      "\t10%: -2.580\n"
     ]
    }
   ],
   "source": [
    "tsResult = adfuller(sampleTs)\n",
    "print('ADF Statistic: %f' % tsResult[0])\n",
    "print('p-value: %f' % tsResult[1])\n",
    "for key, value in tsResult[4].items():\n",
    "    print('\\t%s: %.3f' % (key, value))"
   ]
  },
  {
   "cell_type": "markdown",
   "metadata": {},
   "source": [
    "### Interpreting ADF Test Results\n",
    "- The ADF Statistic value is -1.328310. It is negative.\n",
    "\n",
    "- The p-value: 0.616123 and is greater than 0.05 so we accept the null hypothesis, which means the data is non-stationary."
   ]
  },
  {
   "cell_type": "markdown",
   "metadata": {},
   "source": [
    "## Components of Time Series Data"
   ]
  },
  {
   "cell_type": "markdown",
   "metadata": {},
   "source": [
    "Time Series data is not just what it is. There are several components underlying it.They are\n",
    "\n",
    "- Trend\n",
    "\n",
    "- Seasonal\n",
    "\n",
    "- Cycle\n",
    "\n",
    "- Random"
   ]
  },
  {
   "cell_type": "markdown",
   "metadata": {},
   "source": [
    "## Components Explained\n",
    "- Trend: This component shows the overall series behavior - the slow change of values over time.\n",
    "\n",
    "- Season: This shows the changes that happen in cycles that are less than one year.\n",
    "\n",
    "- Cycles: Changes that happen for more than a year.\n",
    "\n",
    "- Random: Anything that is not included in the above three components.\n",
    "\n",
    "- The underlying assumption has to be that the time series data is stationary."
   ]
  },
  {
   "cell_type": "markdown",
   "metadata": {},
   "source": [
    "## Time Series Difference\n",
    "- Apart from the decomposing the Time Series, there is another method, you can follow while analysis is the difference.\n",
    "\n",
    "- You take the difference between two time periods. The difference can have a shift of one time period or more.\n",
    "\n",
    "- This process also helps in understanding the data better."
   ]
  },
  {
   "cell_type": "markdown",
   "metadata": {},
   "source": [
    "## Decomposing Using Python\n",
    "- Python used statsmodels package seasonal_decompose method for time series decomposing.\n",
    "\n",
    "- You can just pass the time series and call the respective decomposing function to get the results."
   ]
  },
  {
   "cell_type": "markdown",
   "metadata": {},
   "source": [
    "## Seasonal Decomposition"
   ]
  },
  {
   "cell_type": "code",
   "execution_count": 63,
   "metadata": {},
   "outputs": [],
   "source": [
    "from statsmodels.tsa.seasonal import seasonal_decompose\n",
    "sampleTs_decomp = seasonal_decompose(sampleTs, freq=12) \n",
    "sampleTs_trend = sampleTs_decomp.trend \n",
    "sampleTs_seasonal = sampleTs_decomp.seasonal \n",
    "sampleTs_residual = sampleTs_decomp.resid\n",
    "\n",
    "# Here you can get the trend, seasonal, and residuals separately for the time series."
   ]
  },
  {
   "cell_type": "markdown",
   "metadata": {},
   "source": [
    "## Visualizing the Actual Time Series"
   ]
  },
  {
   "cell_type": "code",
   "execution_count": null,
   "metadata": {},
   "outputs": [],
   "source": [
    "The plot above shows the actual time series."
   ]
  },
  {
   "cell_type": "markdown",
   "metadata": {},
   "source": [
    "## Visualizing the Decomposition"
   ]
  },
  {
   "cell_type": "code",
   "execution_count": 67,
   "metadata": {},
   "outputs": [
    {
     "data": {
      "text/plain": [
       "<matplotlib.axes._subplots.AxesSubplot at 0x29113c3e6d8>"
      ]
     },
     "execution_count": 67,
     "metadata": {},
     "output_type": "execute_result"
    },
    {
     "data": {
      "image/png": "[encoded data removed]",
      "text/plain": [
       "<Figure size 432x288 with 1 Axes>"
      ]
     },
     "metadata": {},
     "output_type": "display_data"
    }
   ],
   "source": [
    "# You can also view each decomposition separately.\n",
    "sampleTs_trend.plot()"
   ]
  },
  {
   "cell_type": "markdown",
   "metadata": {},
   "source": [
    "## Seasonal Component"
   ]
  },
  {
   "cell_type": "code",
   "execution_count": 65,
   "metadata": {},
   "outputs": [
    {
     "data": {
      "text/plain": [
       "<matplotlib.axes._subplots.AxesSubplot at 0x29113d54cf8>"
      ]
     },
     "execution_count": 65,
     "metadata": {},
     "output_type": "execute_result"
    },
    {
     "data": {
      "image/png": "[encoded data removed]",
      "text/plain": [
       "<Figure size 432x288 with 1 Axes>"
      ]
     },
     "metadata": {},
     "output_type": "display_data"
    }
   ],
   "source": [
    "sampleTs_seasonal.plot()"
   ]
  },
  {
   "cell_type": "markdown",
   "metadata": {},
   "source": [
    "## Random Component"
   ]
  },
  {
   "cell_type": "code",
   "execution_count": 64,
   "metadata": {
    "scrolled": true
   },
   "outputs": [
    {
     "data": {
      "text/plain": [
       "<matplotlib.axes._subplots.AxesSubplot at 0x2911389d978>"
      ]
     },
     "execution_count": 64,
     "metadata": {},
     "output_type": "execute_result"
    },
    {
     "data": {
      "image/png": "[encoded data removed]",
      "text/plain": [
       "<Figure size 432x288 with 1 Axes>"
      ]
     },
     "metadata": {},
     "output_type": "display_data"
    }
   ],
   "source": [
    "sampleTs_residual.plot()"
   ]
  },
  {
   "cell_type": "markdown",
   "metadata": {},
   "source": [
    "## Modeling Time Series\n",
    "So far, you have seen how to slice and dice the time series data and how to check for stationarity. The next logical step in time series analysis is forecasting. Forecasting in time series can be done in several ways.\n",
    "\n",
    "You will be learning about the following methodologies:\n",
    "\n",
    "- Autoregressive\n",
    "\n",
    "- Moving Average\n",
    "\n",
    "- Autoregressive Moving Average\n",
    "\n",
    "- Autoregressive Integrated Moving Average"
   ]
  },
  {
   "cell_type": "markdown",
   "metadata": {},
   "source": [
    "## Autoregression"
   ]
  },
  {
   "cell_type": "markdown",
   "metadata": {},
   "source": [
    "- In Autoregression, you use the current value of the variable to predict its future values.\n",
    "\n",
    "- Here, the current and past time stamp values of the time series are used to predict the future values."
   ]
  },
  {
   "cell_type": "markdown",
   "metadata": {},
   "source": [
    "## Autoregression Using Python"
   ]
  },
  {
   "cell_type": "code",
   "execution_count": null,
   "metadata": {},
   "outputs": [],
   "source": [
    "from statsmodels.tsa.arima_model import ARIMA \n",
    "model = ARIMA(tsdata,order=(1, 1, 0)) \n",
    "predValues = model.fit()"
   ]
  },
  {
   "cell_type": "markdown",
   "metadata": {},
   "source": [
    "## What is Moving Average?\n",
    "\n",
    "Moving average is another way to predict the time series data.\n",
    "\n",
    "Here the dependent variable is expressed as a function of the previous values along with an average component.\n",
    "\n",
    "Average component keeps moving along the time series.\n",
    "\n",
    "## Moving Average Equation\n",
    "Moving Average Equation\n",
    "\n",
    "The above equation explains how the moving average is represented and calculated. The mean keeps moving along the series.\n",
    "\n",
    "## Moving Average Using Python"
   ]
  },
  {
   "cell_type": "code",
   "execution_count": null,
   "metadata": {},
   "outputs": [],
   "source": [
    "model = ARIMA(tsdata, order=(0, 1, 1)) \n",
    "movingAvgRes = model.fit() "
   ]
  },
  {
   "cell_type": "markdown",
   "metadata": {},
   "source": [
    "## Selecting p and q\n",
    "- The p and q parameters of the Autoregressive and Moving Average models. These parameters have to be selected by how they fit the historical data.\n",
    "\n",
    "- The AIC or BIC have to be validated among the results and the model which has the lowest value should be chosen.\n",
    "\n",
    "- AIC stands for Akaike Information Criterion.\n",
    "\n",
    "- BIC stands for Bayesian Information Criterion."
   ]
  },
  {
   "cell_type": "markdown",
   "metadata": {},
   "source": [
    "## ARIMA\n",
    "- ARIMA is the combination of Autoregressive and Moving Average.\n",
    "\n",
    "- ARIMA stands for Autoregressive Integrated Moving Average.\n",
    "\n",
    "- It is another model used for forecasting in Time Series Analysis."
   ]
  },
  {
   "cell_type": "markdown",
   "metadata": {},
   "source": [
    "### ARIMA Using Python"
   ]
  },
  {
   "cell_type": "code",
   "execution_count": null,
   "metadata": {},
   "outputs": [],
   "source": [
    "model = ARIMA(tsdata, order=(1, 0, 1)) \n",
    "arimares = model.fit() "
   ]
  },
  {
   "cell_type": "markdown",
   "metadata": {},
   "source": [
    "## Steps in Time Series\n",
    "1. The first step is to visualize the time series.\n",
    "2. The second step is to make the data stationary. This can be accomplished by \n",
    "    - Detrending \n",
    "    - Differencing\n",
    "    - Seasonality\n",
    " \n",
    "\n",
    "3. Getting the optimal parameters through Auto Correlation and Partial Auto Correlation\n",
    "\n",
    "4. Build Model (AR , MA , ARMA , ARIMA) using the parameters\n",
    "\n",
    "5. Make Predictions"
   ]
  },
  {
   "cell_type": "markdown",
   "metadata": {},
   "source": [
    "# Summary of Time Series Analysis\n",
    "\n",
    "In this course, you have read:\n",
    "\n",
    "- What is Time Series Data ? and How is it captured?\n",
    "\n",
    "- Date Time as an Index and its applications\n",
    "\n",
    "- Creating Data Ranges when the date values are missing\n",
    "\n",
    "- Working with Time Zones and Standardizing them for Analysis\n",
    "\n",
    "- What is Stationarity and its relevance to Time Series Modeling?\n",
    "\n",
    "- Seasonal, Trend and Random Components of a Time Series\n",
    "\n",
    "- Autoregressive and Moving Average Models in Time Series Forecasting"
   ]
  },
  {
   "cell_type": "code",
   "execution_count": null,
   "metadata": {},
   "outputs": [],
   "source": []
  },
  {
   "cell_type": "code",
   "execution_count": null,
   "metadata": {},
   "outputs": [],
   "source": []
  },
  {
   "cell_type": "code",
   "execution_count": null,
   "metadata": {},
   "outputs": [],
   "source": []
  },
  {
   "cell_type": "code",
   "execution_count": null,
   "metadata": {},
   "outputs": [],
   "source": []
  },
  {
   "cell_type": "code",
   "execution_count": null,
   "metadata": {},
   "outputs": [],
   "source": []
  }
 ],
 "metadata": {
  "kernelspec": {
   "display_name": "Python 3",
   "language": "python",
   "name": "python3"
  },
  "language_info": {
   "codemirror_mode": {
    "name": "ipython",
    "version": 3
   },
   "file_extension": ".py",
   "mimetype": "text/x-python",
   "name": "python",
   "nbconvert_exporter": "python",
   "pygments_lexer": "ipython3",
   "version": "3.8.8"
  }
 },
 "nbformat": 4,
 "nbformat_minor": 4
}
