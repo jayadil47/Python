{
 "cells": [
  {
   "cell_type": "code",
   "execution_count": 18,
   "metadata": {},
   "outputs": [],
   "source": [
    "import pyodbc \n",
    "import pandas\n",
    "conn = pyodbc.connect('Driver={SQL Server};'\n",
    "                      'Server=JAHANZAIBADILR5\\SQLEXPRESS;'\n",
    "                      'Database=AdventureWorks2017;'\n",
    "                      'Trusted_Connection=yes;')"
   ]
  },
  {
   "cell_type": "code",
   "execution_count": 20,
   "metadata": {},
   "outputs": [
    {
     "data": {
      "text/plain": [
       "<pyodbc.Cursor at 0x12fc6da0e30>"
      ]
     },
     "execution_count": 20,
     "metadata": {},
     "output_type": "execute_result"
    }
   ],
   "source": [
    "## TO CHECK\n",
    "cursor = conn.cursor()\n",
    "cursor.execute('SELECT SalesOrderID,OrderQty, UnitPrice FROM [AdventureWorks2017].[Sales].[SalesOrderDetail]')\n",
    "for row in cursor:\n",
    "    print(row)"
   ]
  },
  {
   "cell_type": "code",
   "execution_count": 11,
   "metadata": {},
   "outputs": [],
   "source": [
    "sql = 'SELECT SalesOrderID,OrderQty, UnitPrice FROM [AdventureWorks2017].[Sales].[SalesOrderDetail]'"
   ]
  },
  {
   "cell_type": "code",
   "execution_count": 16,
   "metadata": {},
   "outputs": [],
   "source": [
    "data = pandas.read_sql(sql,conn)"
   ]
  },
  {
   "cell_type": "code",
   "execution_count": 17,
   "metadata": {},
   "outputs": [
    {
     "data": {
      "text/html": [
       "<div>\n",
       "<style scoped>\n",
       "    .dataframe tbody tr th:only-of-type {\n",
       "        vertical-align: middle;\n",
       "    }\n",
       "\n",
       "    .dataframe tbody tr th {\n",
       "        vertical-align: top;\n",
       "    }\n",
       "\n",
       "    .dataframe thead th {\n",
       "        text-align: right;\n",
       "    }\n",
       "</style>\n",
       "<table border=\"1\" class=\"dataframe\">\n",
       "  <thead>\n",
       "    <tr style=\"text-align: right;\">\n",
       "      <th></th>\n",
       "      <th>SalesOrderID</th>\n",
       "      <th>OrderQty</th>\n",
       "      <th>UnitPrice</th>\n",
       "    </tr>\n",
       "  </thead>\n",
       "  <tbody>\n",
       "    <tr>\n",
       "      <th>0</th>\n",
       "      <td>43659</td>\n",
       "      <td>1</td>\n",
       "      <td>2024.994</td>\n",
       "    </tr>\n",
       "    <tr>\n",
       "      <th>1</th>\n",
       "      <td>43659</td>\n",
       "      <td>3</td>\n",
       "      <td>2024.994</td>\n",
       "    </tr>\n",
       "    <tr>\n",
       "      <th>2</th>\n",
       "      <td>43659</td>\n",
       "      <td>1</td>\n",
       "      <td>2024.994</td>\n",
       "    </tr>\n",
       "    <tr>\n",
       "      <th>3</th>\n",
       "      <td>43659</td>\n",
       "      <td>1</td>\n",
       "      <td>2039.994</td>\n",
       "    </tr>\n",
       "    <tr>\n",
       "      <th>4</th>\n",
       "      <td>43659</td>\n",
       "      <td>1</td>\n",
       "      <td>2039.994</td>\n",
       "    </tr>\n",
       "    <tr>\n",
       "      <th>...</th>\n",
       "      <td>...</td>\n",
       "      <td>...</td>\n",
       "      <td>...</td>\n",
       "    </tr>\n",
       "    <tr>\n",
       "      <th>121312</th>\n",
       "      <td>75122</td>\n",
       "      <td>1</td>\n",
       "      <td>21.980</td>\n",
       "    </tr>\n",
       "    <tr>\n",
       "      <th>121313</th>\n",
       "      <td>75122</td>\n",
       "      <td>1</td>\n",
       "      <td>8.990</td>\n",
       "    </tr>\n",
       "    <tr>\n",
       "      <th>121314</th>\n",
       "      <td>75123</td>\n",
       "      <td>1</td>\n",
       "      <td>21.980</td>\n",
       "    </tr>\n",
       "    <tr>\n",
       "      <th>121315</th>\n",
       "      <td>75123</td>\n",
       "      <td>1</td>\n",
       "      <td>159.000</td>\n",
       "    </tr>\n",
       "    <tr>\n",
       "      <th>121316</th>\n",
       "      <td>75123</td>\n",
       "      <td>1</td>\n",
       "      <td>8.990</td>\n",
       "    </tr>\n",
       "  </tbody>\n",
       "</table>\n",
       "<p>121317 rows × 3 columns</p>\n",
       "</div>"
      ],
      "text/plain": [
       "        SalesOrderID  OrderQty  UnitPrice\n",
       "0              43659         1   2024.994\n",
       "1              43659         3   2024.994\n",
       "2              43659         1   2024.994\n",
       "3              43659         1   2039.994\n",
       "4              43659         1   2039.994\n",
       "...              ...       ...        ...\n",
       "121312         75122         1     21.980\n",
       "121313         75122         1      8.990\n",
       "121314         75123         1     21.980\n",
       "121315         75123         1    159.000\n",
       "121316         75123         1      8.990\n",
       "\n",
       "[121317 rows x 3 columns]"
      ]
     },
     "execution_count": 17,
     "metadata": {},
     "output_type": "execute_result"
    }
   ],
   "source": [
    "data"
   ]
  }
 ],
 "metadata": {
  "kernelspec": {
   "display_name": "Python 3",
   "language": "python",
   "name": "python3"
  },
  "language_info": {
   "codemirror_mode": {
    "name": "ipython",
    "version": 3
   },
   "file_extension": ".py",
   "mimetype": "text/x-python",
   "name": "python",
   "nbconvert_exporter": "python",
   "pygments_lexer": "ipython3",
   "version": "3.8.8"
  }
 },
 "nbformat": 4,
 "nbformat_minor": 4
}
