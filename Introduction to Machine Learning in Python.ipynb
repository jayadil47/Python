{
 "cells": [
  {
   "cell_type": "markdown",
   "metadata": {},
   "source": [
    "## Welcome to Machine Learning Fundamentals!\n",
    "\n",
    "In this course, you will be exposed to the different concepts of Machine learning with a brief overview on each. We will be adding detailed courses covering each of these concepts in-depth."
   ]
  },
  {
   "cell_type": "markdown",
   "metadata": {},
   "source": [
    "## Difference between Supervised vs. Unsupervised\n",
    "Take the example of face recognition.\n",
    "\n",
    "In Supervised learning, one will learn from many examples as to what & how a face is, in terms of structure, color, shape, position of eyes, nose and so on. After several iterations, the algorithm learns to define a face.\n",
    "\n",
    "In Unsupervised learning, there is no desired output provided. Therefore, categorization is done so that the algorithm differentiates correctly between the face of a horse, cow or human (clustering of data)."
   ]
  },
  {
   "cell_type": "markdown",
   "metadata": {},
   "source": [
    "## Features & Labels\n",
    "The availability of Features & Labels determines the algorithm & analytics methodology we need to apply."
   ]
  },
  {
   "cell_type": "markdown",
   "metadata": {},
   "source": [
    "## Machine Learning Techniques\n",
    "Now that you have fair understanding of Supervised & Unsupervised learning and Features & Labels, let's now focus on learning different techniques used for Machine Learning."
   ]
  },
  {
   "cell_type": "markdown",
   "metadata": {},
   "source": [
    "## Decision Tree - Introduction\n",
    "- Decision tree learning is commonly used in data mining. A decision tree is a tree-like model of decisions and possible consequences, chance event outcomes, resource costs, and utility. It is a way to display an algorithm.\n",
    "\n",
    "- Decision Trees (DTs) are a non-parametric supervised learning method used for classification and regression."
   ]
  },
  {
   "cell_type": "markdown",
   "metadata": {},
   "source": [
    "## Decision Tree - Types\n",
    "- There are 2 types of Decision trees:\n",
    "\n",
    "1. Classification Tree - The predicted outcome is the class to which the data belongs. This corresponds to the Tree models where the target variable can take a finite set of values.\n",
    "\n",
    "2. Regression Tree - The predicted outcome can be considered a real number. This corresponds to the Tree models where the target variable can take continuous values.\n",
    "\n",
    "- (We will discuss these in detail in separate course)."
   ]
  },
  {
   "cell_type": "markdown",
   "metadata": {},
   "source": [
    "## Decision Tree - Pros & Cons\n",
    "- Pros:Easy and simple to understand & interpret.Can analyze both numerical and categorical data.\n",
    "\n",
    "- Cons: Small variations in the data might generate a completely different tree."
   ]
  },
  {
   "cell_type": "markdown",
   "metadata": {},
   "source": [
    "## Naïve Bayes\n",
    "- Naive Bayes, a supervised learning methodology, is a family of algorithms based on a common principle:\n",
    "\n",
    "- All Naive Bayes classifiers assume that the value of a particular feature is independent of the value of any other feature, given the class variable\n",
    "\n",
    "Source: Wikipedia"
   ]
  },
  {
   "cell_type": "markdown",
   "metadata": {},
   "source": [
    "## Naïve Bayes\n",
    "Now consider an example for Naïve Bayes - Detecting Spam emails."
   ]
  },
  {
   "cell_type": "markdown",
   "metadata": {},
   "source": [
    "### Naïve Bayes Usage\n",
    "Naive Bayes comes handy since you can train it quickly.\n",
    "You can use it when you have limited resources in terms of Central Processing Unit and Memory.\n",
    "It is usually used for Real-time predictions, Multi-class Predictions, Text classification, Spam filtering, and Sentiment Analysis."
   ]
  },
  {
   "cell_type": "markdown",
   "metadata": {},
   "source": [
    "## Gradient Descent\n",
    "- Gradient descent is an optimization algorithm. It is normally used to find the values of parameters (coefficients) of a function (f) that minimizes a cost function (cost).\n",
    "\n",
    "- In Gradient descent, the algorithm has to run through ALL the samples in given training set to update a parameter in a particular iteration.\n",
    "\n",
    "- Hence, if the number of training samples is large, or in fact very large, then using gradient descent may be time-consuming. \n",
    "\n",
    "- This is when you update the values of the parameters in every iteration, you are running through the complete training set."
   ]
  },
  {
   "cell_type": "markdown",
   "metadata": {},
   "source": [
    "## Linear Regression\n",
    "- Linear regression (considered as a step up after correlation) predicts the value of a dependent variable depending on the value of an independent variable.\n",
    "- Simple linear regression has only 1 independent variable whereas multiple linear regression has (>1) independent variables.\n",
    "- It is very sensitive to Outliers. Outliers could terribly affect the regression line and eventually the forecasted values. Hence it is a good practice to keep a check on the Outliers."
   ]
  },
  {
   "cell_type": "markdown",
   "metadata": {},
   "source": [
    "## Logistic Regression\n",
    "- Logistic regression or logit model is used to model dichotomous outcome variables.\n",
    "\n",
    "- This is used with data where there is a binary (success-failure) outcome variable. It is also used when the outcome takes the form of a binomial proportion."
   ]
  },
  {
   "cell_type": "markdown",
   "metadata": {},
   "source": [
    "### Logistic Regression - Usage\n",
    "To perform Logistic regression, you require large sample sizes because maximum likelihood estimates are less powerful at low sample sizes."
   ]
  },
  {
   "cell_type": "markdown",
   "metadata": {},
   "source": [
    "## Support Vector Machine\n",
    "Support Vector Machine (SVM) is a supervised machine learning algorithm. It is used for classification or regression type of problems."
   ]
  },
  {
   "cell_type": "markdown",
   "metadata": {},
   "source": [
    "## Using Support Vector Machine\n",
    "\n",
    "- SVM is all about identifying the right hyper plane. To decide the right hyper-plane, we need to maximize the distances between the nearest data point (either class) and hyper-plane.\n",
    "\n",
    "- SVM works well with clear margin of separation & high dimensional spaces.\n"
   ]
  },
  {
   "cell_type": "markdown",
   "metadata": {},
   "source": [
    "## Kernel Methods\n",
    "Kernel methods provide ways to manipulate data as though it were projected into a higher dimensional space, by operating on it in its original space.\n",
    "The number of operations required is not necessarily proportional to the number of features."
   ]
  },
  {
   "cell_type": "markdown",
   "metadata": {},
   "source": [
    "## Neural Networks\n",
    "Neural network is a powerful computational data model, that captures and represents complex input/output relationships.\n",
    "\n",
    "This model is motivated by the desire to develop an artificial system which would be able to perform \"intelligent tasks\" similar to the human brain.\n",
    "\n",
    "Neural networks try to resemble the human brain in the following two ways:\n",
    "\n",
    "- Acquires knowledge through learning.\n",
    "- Stores knowledge within inter-neuron connection strengths known as synaptic weights."
   ]
  },
  {
   "cell_type": "markdown",
   "metadata": {},
   "source": [
    "## Neural Networks - Application\n",
    "\n",
    "Neural Networks have a broad spectrum of data-intensive applications such as,\n",
    "\n",
    "1. Process Modeling and Control\n",
    "2. Machine Diagnostics\n",
    "3. Target Recognition\n",
    "4. Medical Diagnosis\n",
    "5. Credit Rating\n",
    "6. Financial Forecasting and so on."
   ]
  },
  {
   "cell_type": "code",
   "execution_count": null,
   "metadata": {},
   "outputs": [],
   "source": []
  }
 ],
 "metadata": {
  "kernelspec": {
   "display_name": "Python 3",
   "language": "python",
   "name": "python3"
  },
  "language_info": {
   "codemirror_mode": {
    "name": "ipython",
    "version": 3
   },
   "file_extension": ".py",
   "mimetype": "text/x-python",
   "name": "python",
   "nbconvert_exporter": "python",
   "pygments_lexer": "ipython3",
   "version": "3.7.6"
  }
 },
 "nbformat": 4,
 "nbformat_minor": 2
}
